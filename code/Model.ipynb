{
 "cells": [
  {
   "cell_type": "code",
   "execution_count": 6,
   "id": "66efb4a2",
   "metadata": {},
   "outputs": [],
   "source": [
    "import pandas as pd\n",
    "import numpy as np\n",
    "import matplotlib.pyplot as plt\n",
    "import sklearn\n",
    "from sklearn.model_selection import train_test_split\n",
    "from sklearn.preprocessing import StandardScaler\n",
    "from sklearn.metrics import r2_score, mean_squared_error\n",
    "import random\n",
    "import time\n",
    "random.seed(10)"
   ]
  },
  {
   "cell_type": "code",
   "execution_count": 7,
   "id": "6731ac6d",
   "metadata": {},
   "outputs": [],
   "source": [
    "df=pd.read_excel('ML_Data5.xlsx')"
   ]
  },
  {
   "cell_type": "code",
   "execution_count": 8,
   "id": "a4aacd0b",
   "metadata": {},
   "outputs": [],
   "source": [
    "X=df.iloc[:,2:]\n",
    "Y=df.iloc[:,1:2]"
   ]
  },
  {
   "cell_type": "code",
   "execution_count": 9,
   "id": "d85ff164",
   "metadata": {
    "scrolled": true
   },
   "outputs": [],
   "source": [
    "Y= np.log(Y)"
   ]
  },
  {
   "cell_type": "code",
   "execution_count": 10,
   "id": "92f5216b",
   "metadata": {},
   "outputs": [],
   "source": [
    "from sklearn.metrics import r2_score, mean_absolute_error, mean_squared_error\n",
    "def get_score(base='Training', actual=0,predicted=0):\n",
    "    r2 = r2_score(actual,predicted)\n",
    "    mae = mean_absolute_error(actual,predicted)\n",
    "    mse = mean_squared_error(actual,predicted)\n",
    "    #print(f'{base} has R^2={r2.round(3)}, mse={mse.round(3)} and mae={mae.round(3)}')\n",
    "    return print(f'{base} has R^2={r2.round(5)}, mse={mse.round(5)} and mae={mae.round(5)}')"
   ]
  },
  {
   "cell_type": "markdown",
   "id": "8f84d138",
   "metadata": {},
   "source": [
    "## Random Forest"
   ]
  },
  {
   "cell_type": "code",
   "execution_count": 11,
   "id": "7d15ece5",
   "metadata": {},
   "outputs": [
    {
     "name": "stdout",
     "output_type": "stream",
     "text": [
      "Training has R^2=0.97217, mse=0.06732 and mae=0.2208\n",
      "Test has R^2=0.91124, mse=0.2642 and mae=0.37085\n"
     ]
    }
   ],
   "source": [
    "from sklearn.ensemble import RandomForestRegressor\n",
    "from sklearn.datasets import make_regression\n",
    "X_train, X_test, y_train, y_test = train_test_split(X, Y, test_size=0.2)\n",
    "x_train= X_train\n",
    "x_test= X_test\n",
    "# for x in range(2400,3200):1142\n",
    "Rfreg=RandomForestRegressor(n_estimators=10,random_state=37)#13,30\n",
    "model=Rfreg.fit(x_train,y_train.values.ravel())\n",
    "get_score('Training',actual=y_train,predicted=model.predict(x_train))\n",
    "get_score('Test',actual=y_test,predicted=model.predict(x_test))"
   ]
  },
  {
   "cell_type": "markdown",
   "id": "804c6def",
   "metadata": {},
   "source": [
    "### RF_CV"
   ]
  },
  {
   "cell_type": "code",
   "execution_count": 12,
   "id": "eb457902",
   "metadata": {},
   "outputs": [],
   "source": [
    "from sklearn.model_selection import cross_val_score\n",
    "from sklearn.model_selection import GridSearchCV\n",
    "from sklearn.ensemble import RandomForestRegressor"
   ]
  },
  {
   "cell_type": "code",
   "execution_count": 13,
   "id": "9fa7ed1e",
   "metadata": {},
   "outputs": [
    {
     "name": "stdout",
     "output_type": "stream",
     "text": [
      "estimator: 16\n",
      "random_state: 36\n",
      "Best_score 0.9379508883111258\n",
      "Test R2: 0.9886334543312847\n",
      "Validation R2: 0.9379508883111258\n"
     ]
    }
   ],
   "source": [
    "X_train, X_test, Y_train, Y_test = train_test_split(X, Y, random_state=32)\n",
    "reg_xgb=RandomForestRegressor()\n",
    "hyperparameter_grid = {\n",
    "'n_estimators': [i for i in range(1,20)],\n",
    "'random_state': [i for i in range(20,40)]\n",
    "}\n",
    "clf = GridSearchCV(reg_xgb, hyperparameter_grid, cv=5, verbose=0,return_train_score=True,scoring='r2') \n",
    "best_model = clf.fit(X_train, Y_train.values.ravel())\n",
    "print(\"estimator:\", best_model.best_estimator_.get_params()['n_estimators'])\n",
    "print(\"random_state:\", best_model.best_estimator_.get_params()['random_state'])\n",
    "print(\"Best_score\", best_model.best_score_)\n",
    "print(\"Test R2:\",best_model.cv_results_['mean_train_score'][np.argmin(best_model.cv_results_['rank_test_score'])])\n",
    "print(\"Validation R2:\", best_model.best_score_)"
   ]
  },
  {
   "cell_type": "code",
   "execution_count": null,
   "id": "a26f5250",
   "metadata": {},
   "outputs": [],
   "source": []
  },
  {
   "cell_type": "code",
   "execution_count": 15,
   "id": "cf23c8de",
   "metadata": {},
   "outputs": [
    {
     "name": "stdout",
     "output_type": "stream",
     "text": [
      "estimator: 9\n",
      "random_state: 30\n",
      "Best_score 0.14321692684125942\n",
      "Test MSE: 0.04776641558363289\n",
      "Validation MSE: 0.14321692684125942\n"
     ]
    }
   ],
   "source": [
    "X_train, X_test, Y_train, Y_test = train_test_split(X, Y, random_state=32)\n",
    "reg_xgb=RandomForestRegressor()\n",
    "hyperparameter_grid = {\n",
    "'n_estimators': [i for i in range(1,20)],\n",
    "'random_state': [i for i in range(20,40)]\n",
    "}\n",
    "clf = GridSearchCV(reg_xgb, hyperparameter_grid, cv=5, verbose=0,return_train_score=True,scoring='neg_mean_squared_error') \n",
    "best_model = clf.fit(X_train, Y_train.values.ravel())\n",
    "print(\"estimator:\", best_model.best_estimator_.get_params()['n_estimators'])\n",
    "print(\"random_state:\", best_model.best_estimator_.get_params()['random_state'])\n",
    "print(\"Best_score\", -best_model.best_score_)\n",
    "print(\"Test MSE:\",-best_model.cv_results_['mean_train_score'][np.argmin(best_model.cv_results_['rank_test_score'])])\n",
    "print(\"Validation MSE:\", -best_model.best_score_)"
   ]
  },
  {
   "cell_type": "code",
   "execution_count": null,
   "id": "bb63b1f3",
   "metadata": {},
   "outputs": [],
   "source": []
  },
  {
   "cell_type": "code",
   "execution_count": null,
   "id": "3419ca26",
   "metadata": {},
   "outputs": [],
   "source": []
  },
  {
   "cell_type": "code",
   "execution_count": null,
   "id": "f4799c70",
   "metadata": {},
   "outputs": [],
   "source": []
  },
  {
   "cell_type": "markdown",
   "id": "54e8ebb4",
   "metadata": {},
   "source": [
    "## Xg Boost"
   ]
  },
  {
   "cell_type": "code",
   "execution_count": 16,
   "id": "5051ab38",
   "metadata": {},
   "outputs": [
    {
     "name": "stdout",
     "output_type": "stream",
     "text": [
      "Training has R^2=0.94653, mse=0.12934 and mae=0.27294\n",
      "Test has R^2=0.84419, mse=0.46379 and mae=0.47829\n"
     ]
    }
   ],
   "source": [
    "\n",
    "from xgboost import XGBRegressor\n",
    "xgbr=XGBRegressor(verbosity=0,n_estimators=28, max_depth=5, random_state=33 , gamma = 0.5)\n",
    "model=xgbr.fit(x_train,y_train)\n",
    "get_score('Training',actual=y_train,predicted=model.predict(x_train))\n",
    "#get_score('validation',actual=y_val,predicted=model.predict(x_val))\n",
    "get_score('Test',actual=y_test,predicted=model.predict(x_test))\n"
   ]
  },
  {
   "cell_type": "markdown",
   "id": "0c6cf5f3",
   "metadata": {},
   "source": [
    "### XG_Boost_cv"
   ]
  },
  {
   "cell_type": "code",
   "execution_count": 17,
   "id": "d14778df",
   "metadata": {},
   "outputs": [],
   "source": [
    "from sklearn.model_selection import cross_val_score\n",
    "from sklearn.model_selection import GridSearchCV\n",
    "from xgboost import XGBRegressor"
   ]
  },
  {
   "cell_type": "code",
   "execution_count": 18,
   "id": "ca1e4dcc",
   "metadata": {},
   "outputs": [
    {
     "name": "stdout",
     "output_type": "stream",
     "text": [
      "estimator: 25\n",
      "random_state: 4\n",
      "random_state: 20\n",
      "random_state: 0.4\n",
      "Best_score 0.8813796432929857\n",
      "Test R2: 0.9695347691717483\n",
      "Validation R2: 0.8813796432929857\n"
     ]
    }
   ],
   "source": [
    "X_train, X_test, Y_train, Y_test = train_test_split(X, Y, random_state=32)\n",
    "reg_xgb=XGBRegressor()\n",
    "hyperparameter_grid = {\n",
    "'n_estimators': [i for i in range(25,30)],\n",
    "'max_depth': [4,5],\n",
    "'random_state': [i for i in range(20,35)],\n",
    "'gamma':[0.4,0.5]\n",
    "}\n",
    "clf = GridSearchCV(reg_xgb, hyperparameter_grid, cv=5, verbose=0,return_train_score=True,scoring='r2') \n",
    "best_model = clf.fit(X_train, Y_train.values.ravel())\n",
    "print(\"estimator:\", best_model.best_estimator_.get_params()['n_estimators'])\n",
    "print(\"random_state:\", best_model.best_estimator_.get_params()['max_depth'])\n",
    "print(\"random_state:\", best_model.best_estimator_.get_params()['random_state'])\n",
    "print(\"random_state:\", best_model.best_estimator_.get_params()['gamma'])\n",
    "print(\"Best_score\", best_model.best_score_)\n",
    "print(\"Test R2:\",best_model.cv_results_['mean_train_score'][np.argmin(best_model.cv_results_['rank_test_score'])])\n",
    "print(\"Validation R2:\", best_model.best_score_)"
   ]
  },
  {
   "cell_type": "code",
   "execution_count": null,
   "id": "d08a70f9",
   "metadata": {},
   "outputs": [],
   "source": []
  },
  {
   "cell_type": "code",
   "execution_count": 19,
   "id": "1d4b4497",
   "metadata": {},
   "outputs": [
    {
     "name": "stdout",
     "output_type": "stream",
     "text": [
      "estimator: 29\n",
      "random_state: 4\n",
      "random_state: 20\n",
      "random_state: 0.4\n",
      "Best_score -0.24967623917396659\n",
      "Test MSE: 0.07960235216242892\n",
      "Validation MSE: 0.24967623917396659\n"
     ]
    }
   ],
   "source": [
    "X_train, X_test, Y_train, Y_test = train_test_split(X, Y, random_state=32)\n",
    "reg_xgb=XGBRegressor()\n",
    "hyperparameter_grid = {\n",
    "'n_estimators': [i for i in range(25,30)],\n",
    "'max_depth': [4,5],\n",
    "'random_state': [i for i in range(20,35)],\n",
    "'gamma':[0.4,0.5]\n",
    "}\n",
    "clf = GridSearchCV(reg_xgb, hyperparameter_grid, cv=5, verbose=0,return_train_score=True,scoring='neg_mean_squared_error') \n",
    "best_model = clf.fit(X_train, Y_train.values.ravel())\n",
    "print(\"estimator:\", best_model.best_estimator_.get_params()['n_estimators'])\n",
    "print(\"random_state:\", best_model.best_estimator_.get_params()['max_depth'])\n",
    "print(\"random_state:\", best_model.best_estimator_.get_params()['random_state'])\n",
    "print(\"random_state:\", best_model.best_estimator_.get_params()['gamma'])\n",
    "print(\"Best_score\", best_model.best_score_)\n",
    "print(\"Test MSE:\",-best_model.cv_results_['mean_train_score'][np.argmin(best_model.cv_results_['rank_test_score'])])\n",
    "print(\"Validation MSE:\", -best_model.best_score_)"
   ]
  },
  {
   "cell_type": "markdown",
   "id": "9dd0b275",
   "metadata": {},
   "source": [
    "## RIDGE REGRESSION"
   ]
  },
  {
   "cell_type": "code",
   "execution_count": 20,
   "id": "ca65c1e4",
   "metadata": {},
   "outputs": [
    {
     "name": "stdout",
     "output_type": "stream",
     "text": [
      "Training has R^2=0.84475, mse=0.37549 and mae=0.49238\n",
      "Test has R^2=0.9129, mse=0.25928 and mae=0.45991\n"
     ]
    }
   ],
   "source": [
    "from sklearn.linear_model import Ridge\n",
    "model = Ridge(alpha = 0.05,solver=\"auto\", max_iter=None,tol=5e-4, random_state=20)\n",
    "model.fit(x_train,y_train)\n",
    "get_score('Training',actual=y_train,predicted=model.predict(x_train))\n",
    "get_score('Test',actual=y_test,predicted=model.predict(x_test))"
   ]
  },
  {
   "cell_type": "markdown",
   "id": "159d8b7e",
   "metadata": {},
   "source": [
    "## ELASTIC NET"
   ]
  },
  {
   "cell_type": "code",
   "execution_count": 21,
   "id": "706cb2f3",
   "metadata": {},
   "outputs": [],
   "source": [
    "from sklearn.linear_model import ElasticNet\n",
    "model= ElasticNet(alpha=0.05)"
   ]
  },
  {
   "cell_type": "code",
   "execution_count": 22,
   "id": "7773e028",
   "metadata": {},
   "outputs": [
    {
     "name": "stdout",
     "output_type": "stream",
     "text": [
      "Training has R^2=0.83978, mse=0.38752 and mae=0.49844\n",
      "Test has R^2=0.90973, mse=0.26871 and mae=0.44949\n"
     ]
    }
   ],
   "source": [
    "from sklearn.linear_model import ElasticNet\n",
    "model= ElasticNet(alpha=0.4)\n",
    "model.fit(x_train,y_train)\n",
    "get_score('Training',actual=y_train,predicted=model.predict(x_train))\n",
    "get_score('Test',actual=y_test,predicted=model.predict(x_test))"
   ]
  },
  {
   "cell_type": "markdown",
   "id": "adc183b7",
   "metadata": {},
   "source": [
    "### Elastic NET_CV"
   ]
  },
  {
   "cell_type": "code",
   "execution_count": 23,
   "id": "2b8223fd",
   "metadata": {},
   "outputs": [
    {
     "name": "stderr",
     "output_type": "stream",
     "text": [
      "/Users/indrajeetmandal/opt/anaconda3/envs/indr/lib/python3.10/site-packages/sklearn/linear_model/_coordinate_descent.py:631: ConvergenceWarning: Objective did not converge. You might want to increase the number of iterations, check the scale of the features or consider increasing regularisation. Duality gap: 1.596e-02, tolerance: 4.958e-03\n",
      "  model = cd_fast.enet_coordinate_descent(\n",
      "/Users/indrajeetmandal/opt/anaconda3/envs/indr/lib/python3.10/site-packages/sklearn/linear_model/_coordinate_descent.py:631: ConvergenceWarning: Objective did not converge. You might want to increase the number of iterations, check the scale of the features or consider increasing regularisation. Duality gap: 1.165e-02, tolerance: 4.038e-03\n",
      "  model = cd_fast.enet_coordinate_descent(\n",
      "/Users/indrajeetmandal/opt/anaconda3/envs/indr/lib/python3.10/site-packages/sklearn/linear_model/_coordinate_descent.py:631: ConvergenceWarning: Objective did not converge. You might want to increase the number of iterations, check the scale of the features or consider increasing regularisation. Duality gap: 1.485e-02, tolerance: 4.325e-03\n",
      "  model = cd_fast.enet_coordinate_descent(\n",
      "/Users/indrajeetmandal/opt/anaconda3/envs/indr/lib/python3.10/site-packages/sklearn/linear_model/_coordinate_descent.py:631: ConvergenceWarning: Objective did not converge. You might want to increase the number of iterations, check the scale of the features or consider increasing regularisation. Duality gap: 1.362e-02, tolerance: 4.197e-03\n",
      "  model = cd_fast.enet_coordinate_descent(\n",
      "/Users/indrajeetmandal/opt/anaconda3/envs/indr/lib/python3.10/site-packages/sklearn/linear_model/_coordinate_descent.py:631: ConvergenceWarning: Objective did not converge. You might want to increase the number of iterations, check the scale of the features or consider increasing regularisation. Duality gap: 1.269e-02, tolerance: 3.608e-03\n",
      "  model = cd_fast.enet_coordinate_descent(\n"
     ]
    },
    {
     "name": "stdout",
     "output_type": "stream",
     "text": [
      "alpha: 0.21000000000000002\n",
      "Best_score 0.915422574955388\n",
      "Test R2: 0.9686238178411033\n",
      "Validation R2: 0.915422574955388\n",
      "Test R2: 0.9686238178411033\n",
      "Validation R2: 0.915422574955388\n"
     ]
    }
   ],
   "source": [
    "X_train, X_test, Y_train, Y_test = train_test_split(X, Y, random_state=32)\n",
    "from sklearn.model_selection import GridSearchCV\n",
    "from sklearn.linear_model import ElasticNet\n",
    "reg_xgb=ElasticNet()\n",
    "hyperparameter_grid = {\n",
    "'alpha': [i for i in np.arange(0.01,1,0.1)],\n",
    "'l1_ratio':[0.5],\n",
    "'max_iter':[1000]\n",
    "    \n",
    "}\n",
    "clf = GridSearchCV(reg_xgb, hyperparameter_grid, cv=5, verbose=0,return_train_score=True,scoring='r2') \n",
    "best_model = clf.fit(X_train, Y_train.values.ravel())\n",
    "print(\"alpha:\", best_model.best_estimator_.get_params()['alpha'])\n",
    "print(\"Best_score\", best_model.best_score_)\n",
    "print(\"Test R2:\",best_model.cv_results_['mean_train_score'][np.argmin(best_model.cv_results_['rank_test_score'])])\n",
    "print(\"Validation R2:\", best_model.best_score_)\n",
    "print(\"Test R2:\",best_model.cv_results_['mean_train_score'][np.argmin(best_model.cv_results_['rank_test_score'])])\n",
    "print(\"Validation R2:\", best_model.best_score_)"
   ]
  },
  {
   "cell_type": "code",
   "execution_count": null,
   "id": "d5d9cff3",
   "metadata": {},
   "outputs": [],
   "source": []
  },
  {
   "cell_type": "code",
   "execution_count": 24,
   "id": "0c97493b",
   "metadata": {},
   "outputs": [
    {
     "name": "stdout",
     "output_type": "stream",
     "text": [
      "alpha: 0.31000000000000005\n",
      "Best_score -0.14236951860082342\n",
      "Test R2: -0.08361581767672652\n",
      "Validation MSE: 0.14236951860082342\n",
      "Test MSE: 0.08361581767672652\n",
      "Validation MSE: 0.14236951860082342\n"
     ]
    },
    {
     "name": "stderr",
     "output_type": "stream",
     "text": [
      "/Users/indrajeetmandal/opt/anaconda3/envs/indr/lib/python3.10/site-packages/sklearn/linear_model/_coordinate_descent.py:631: ConvergenceWarning: Objective did not converge. You might want to increase the number of iterations, check the scale of the features or consider increasing regularisation. Duality gap: 1.596e-02, tolerance: 4.958e-03\n",
      "  model = cd_fast.enet_coordinate_descent(\n",
      "/Users/indrajeetmandal/opt/anaconda3/envs/indr/lib/python3.10/site-packages/sklearn/linear_model/_coordinate_descent.py:631: ConvergenceWarning: Objective did not converge. You might want to increase the number of iterations, check the scale of the features or consider increasing regularisation. Duality gap: 1.165e-02, tolerance: 4.038e-03\n",
      "  model = cd_fast.enet_coordinate_descent(\n",
      "/Users/indrajeetmandal/opt/anaconda3/envs/indr/lib/python3.10/site-packages/sklearn/linear_model/_coordinate_descent.py:631: ConvergenceWarning: Objective did not converge. You might want to increase the number of iterations, check the scale of the features or consider increasing regularisation. Duality gap: 1.485e-02, tolerance: 4.325e-03\n",
      "  model = cd_fast.enet_coordinate_descent(\n",
      "/Users/indrajeetmandal/opt/anaconda3/envs/indr/lib/python3.10/site-packages/sklearn/linear_model/_coordinate_descent.py:631: ConvergenceWarning: Objective did not converge. You might want to increase the number of iterations, check the scale of the features or consider increasing regularisation. Duality gap: 1.362e-02, tolerance: 4.197e-03\n",
      "  model = cd_fast.enet_coordinate_descent(\n",
      "/Users/indrajeetmandal/opt/anaconda3/envs/indr/lib/python3.10/site-packages/sklearn/linear_model/_coordinate_descent.py:631: ConvergenceWarning: Objective did not converge. You might want to increase the number of iterations, check the scale of the features or consider increasing regularisation. Duality gap: 1.269e-02, tolerance: 3.608e-03\n",
      "  model = cd_fast.enet_coordinate_descent(\n"
     ]
    }
   ],
   "source": [
    "X_train, X_test, Y_train, Y_test = train_test_split(X, Y, random_state=32)\n",
    "from sklearn.model_selection import GridSearchCV\n",
    "from sklearn.linear_model import ElasticNet\n",
    "reg_xgb=ElasticNet()\n",
    "hyperparameter_grid = {\n",
    "'alpha': [i for i in np.arange(0.01,1,0.1)],\n",
    "'l1_ratio':[0.5],\n",
    "'max_iter':[1000]\n",
    "    \n",
    "}\n",
    "clf = GridSearchCV(reg_xgb, hyperparameter_grid, cv=5, verbose=0,return_train_score=True,scoring='neg_mean_squared_error') \n",
    "best_model = clf.fit(X_train, Y_train.values.ravel())\n",
    "print(\"alpha:\", best_model.best_estimator_.get_params()['alpha'])\n",
    "print(\"Best_score\", best_model.best_score_)\n",
    "print(\"Test R2:\",best_model.cv_results_['mean_train_score'][np.argmin(best_model.cv_results_['rank_test_score'])])\n",
    "print(\"Validation MSE:\", -best_model.best_score_)\n",
    "print(\"Test MSE:\",-best_model.cv_results_['mean_train_score'][np.argmin(best_model.cv_results_['rank_test_score'])])\n",
    "print(\"Validation MSE:\", -best_model.best_score_)"
   ]
  },
  {
   "cell_type": "markdown",
   "id": "56d50982",
   "metadata": {},
   "source": [
    "## LASSO REGRESSION"
   ]
  },
  {
   "cell_type": "code",
   "execution_count": 26,
   "id": "bf83c7aa",
   "metadata": {},
   "outputs": [
    {
     "name": "stdout",
     "output_type": "stream",
     "text": [
      "Training has R^2=0.83968, mse=0.38776 and mae=0.49743\n",
      "Test has R^2=0.9098, mse=0.26851 and mae=0.44833\n"
     ]
    }
   ],
   "source": [
    "from sklearn.linear_model import Lasso\n",
    "model = Lasso(alpha=0.2)\n",
    "model.fit(x_train,y_train)\n",
    "get_score('Training',actual=y_train,predicted=model.predict(x_train))\n",
    "get_score('Test',actual=y_test,predicted=model.predict(x_test))"
   ]
  },
  {
   "cell_type": "markdown",
   "id": "6898098b",
   "metadata": {},
   "source": [
    "## lasso_cv"
   ]
  },
  {
   "cell_type": "code",
   "execution_count": 27,
   "id": "286728c7",
   "metadata": {},
   "outputs": [
    {
     "name": "stdout",
     "output_type": "stream",
     "text": [
      "alpha: 0.11\n",
      "Best_score 0.9162035961588881\n",
      "Test R2: 0.9686103649869203\n",
      "Validation R2: 0.9162035961588881\n",
      "Test R2: 0.9686103649869203\n",
      "Validation R2: 0.9162035961588881\n"
     ]
    },
    {
     "name": "stderr",
     "output_type": "stream",
     "text": [
      "/Users/indrajeetmandal/opt/anaconda3/envs/indr/lib/python3.10/site-packages/sklearn/linear_model/_coordinate_descent.py:631: ConvergenceWarning: Objective did not converge. You might want to increase the number of iterations, check the scale of the features or consider increasing regularisation. Duality gap: 1.861e-02, tolerance: 4.958e-03\n",
      "  model = cd_fast.enet_coordinate_descent(\n",
      "/Users/indrajeetmandal/opt/anaconda3/envs/indr/lib/python3.10/site-packages/sklearn/linear_model/_coordinate_descent.py:631: ConvergenceWarning: Objective did not converge. You might want to increase the number of iterations, check the scale of the features or consider increasing regularisation. Duality gap: 1.263e-02, tolerance: 4.325e-03\n",
      "  model = cd_fast.enet_coordinate_descent(\n",
      "/Users/indrajeetmandal/opt/anaconda3/envs/indr/lib/python3.10/site-packages/sklearn/linear_model/_coordinate_descent.py:631: ConvergenceWarning: Objective did not converge. You might want to increase the number of iterations, check the scale of the features or consider increasing regularisation. Duality gap: 1.147e-02, tolerance: 4.197e-03\n",
      "  model = cd_fast.enet_coordinate_descent(\n"
     ]
    }
   ],
   "source": [
    "X_train, X_test, Y_train, Y_test = train_test_split(X, Y, random_state=32)\n",
    "from sklearn.model_selection import GridSearchCV\n",
    "from sklearn.linear_model import Lasso\n",
    "reg_xgb=Lasso()\n",
    "hyperparameter_grid = {\n",
    "'alpha': [i for i in np.arange(0.01,1,0.1)]\n",
    "    \n",
    "}\n",
    "clf = GridSearchCV(reg_xgb, hyperparameter_grid, cv=5, verbose=0,return_train_score=True,scoring='r2') \n",
    "best_model = clf.fit(X_train, Y_train.values.ravel())\n",
    "print(\"alpha:\", best_model.best_estimator_.get_params()['alpha'])\n",
    "print(\"Best_score\", best_model.best_score_)\n",
    "print(\"Test R2:\",best_model.cv_results_['mean_train_score'][np.argmin(best_model.cv_results_['rank_test_score'])])\n",
    "print(\"Validation R2:\", best_model.best_score_)\n",
    "print(\"Test R2:\",best_model.cv_results_['mean_train_score'][np.argmin(best_model.cv_results_['rank_test_score'])])\n",
    "print(\"Validation R2:\", best_model.best_score_)"
   ]
  },
  {
   "cell_type": "code",
   "execution_count": null,
   "id": "ac8e5b9b",
   "metadata": {},
   "outputs": [],
   "source": []
  },
  {
   "cell_type": "code",
   "execution_count": 28,
   "id": "82557c86",
   "metadata": {},
   "outputs": [
    {
     "name": "stdout",
     "output_type": "stream",
     "text": [
      "alpha: 0.21000000000000002\n",
      "Best_score -0.14113634729371116\n",
      "Test R2: -0.084888678636629\n",
      "Validation MSE: 0.14113634729371116\n",
      "Test MSE: 0.084888678636629\n",
      "Validation MSE: 0.14113634729371116\n"
     ]
    },
    {
     "name": "stderr",
     "output_type": "stream",
     "text": [
      "/Users/indrajeetmandal/opt/anaconda3/envs/indr/lib/python3.10/site-packages/sklearn/linear_model/_coordinate_descent.py:631: ConvergenceWarning: Objective did not converge. You might want to increase the number of iterations, check the scale of the features or consider increasing regularisation. Duality gap: 1.861e-02, tolerance: 4.958e-03\n",
      "  model = cd_fast.enet_coordinate_descent(\n",
      "/Users/indrajeetmandal/opt/anaconda3/envs/indr/lib/python3.10/site-packages/sklearn/linear_model/_coordinate_descent.py:631: ConvergenceWarning: Objective did not converge. You might want to increase the number of iterations, check the scale of the features or consider increasing regularisation. Duality gap: 1.263e-02, tolerance: 4.325e-03\n",
      "  model = cd_fast.enet_coordinate_descent(\n",
      "/Users/indrajeetmandal/opt/anaconda3/envs/indr/lib/python3.10/site-packages/sklearn/linear_model/_coordinate_descent.py:631: ConvergenceWarning: Objective did not converge. You might want to increase the number of iterations, check the scale of the features or consider increasing regularisation. Duality gap: 1.147e-02, tolerance: 4.197e-03\n",
      "  model = cd_fast.enet_coordinate_descent(\n"
     ]
    }
   ],
   "source": [
    "X_train, X_test, Y_train, Y_test = train_test_split(X, Y, random_state=32)\n",
    "from sklearn.model_selection import GridSearchCV\n",
    "from sklearn.linear_model import Lasso\n",
    "reg_xgb=Lasso()\n",
    "hyperparameter_grid = {\n",
    "'alpha': [i for i in np.arange(0.01,1,0.1)]\n",
    "    \n",
    "}\n",
    "clf = GridSearchCV(reg_xgb, hyperparameter_grid, cv=5, verbose=0,return_train_score=True,scoring='neg_mean_squared_error') \n",
    "best_model = clf.fit(X_train, Y_train.values.ravel())\n",
    "print(\"alpha:\", best_model.best_estimator_.get_params()['alpha'])\n",
    "print(\"Best_score\", best_model.best_score_)\n",
    "print(\"Test R2:\",best_model.cv_results_['mean_train_score'][np.argmin(best_model.cv_results_['rank_test_score'])])\n",
    "print(\"Validation MSE:\", -best_model.best_score_)\n",
    "print(\"Test MSE:\",-best_model.cv_results_['mean_train_score'][np.argmin(best_model.cv_results_['rank_test_score'])])\n",
    "print(\"Validation MSE:\", -best_model.best_score_)"
   ]
  },
  {
   "cell_type": "markdown",
   "id": "5ea5b96c",
   "metadata": {},
   "source": [
    "## LINEAR REGRESSION\n"
   ]
  },
  {
   "cell_type": "code",
   "execution_count": 29,
   "id": "af806812",
   "metadata": {},
   "outputs": [
    {
     "name": "stdout",
     "output_type": "stream",
     "text": [
      "Training has R^2=0.84475, mse=0.37549 and mae=0.49238\n",
      "Test has R^2=0.91289, mse=0.25929 and mae=0.45991\n"
     ]
    }
   ],
   "source": [
    "from sklearn.linear_model import LinearRegression\n",
    "\n",
    "model= LinearRegression()\n",
    "model.fit(x_train,y_train)\n",
    "get_score('Training',actual=y_train,predicted=model.predict(x_train))\n",
    "get_score('Test',actual=y_test,predicted=model.predict(x_test))"
   ]
  },
  {
   "cell_type": "markdown",
   "id": "8f9aa9f2",
   "metadata": {},
   "source": [
    "## Linear_cv"
   ]
  },
  {
   "cell_type": "code",
   "execution_count": 30,
   "id": "16a7a3d2",
   "metadata": {},
   "outputs": [
    {
     "name": "stdout",
     "output_type": "stream",
     "text": [
      "n_jobs: 10\n",
      "Best_score 0.9058748619601132\n",
      "Test R2: 0.9695727232789123\n",
      "Validation R2: 0.9058748619601132\n"
     ]
    }
   ],
   "source": [
    "X_train, X_test, Y_train, Y_test = train_test_split(X, Y, random_state=32)\n",
    "from sklearn.model_selection import GridSearchCV\n",
    "from sklearn.linear_model import LinearRegression\n",
    "reg_xgb=LinearRegression()\n",
    "hyperparameter_grid = {\n",
    "'n_jobs':[10]\n",
    "    \n",
    "}\n",
    "clf = GridSearchCV(reg_xgb, hyperparameter_grid, cv=5, verbose=0,return_train_score=True,scoring='r2') \n",
    "best_model = clf.fit(X_train, Y_train.values.ravel())\n",
    "print(\"n_jobs:\", best_model.best_estimator_.get_params()['n_jobs'])\n",
    "print(\"Best_score\", best_model.best_score_)\n",
    "print(\"Test R2:\",best_model.cv_results_['mean_train_score'][np.argmin(best_model.cv_results_['rank_test_score'])])\n",
    "print(\"Validation R2:\", best_model.best_score_)"
   ]
  },
  {
   "cell_type": "code",
   "execution_count": null,
   "id": "b3fd330a",
   "metadata": {},
   "outputs": [],
   "source": []
  },
  {
   "cell_type": "code",
   "execution_count": 31,
   "id": "b0c07ccf",
   "metadata": {},
   "outputs": [
    {
     "name": "stdout",
     "output_type": "stream",
     "text": [
      "n_jobs: 10\n",
      "Best_score 0.17736793097236725\n",
      "Test MSE: 0.0798897613472763\n",
      "Validation MSE: 0.17736793097236725\n"
     ]
    }
   ],
   "source": [
    "X_train, X_test, Y_train, Y_test = train_test_split(X, Y, random_state=32)\n",
    "from sklearn.model_selection import GridSearchCV\n",
    "from sklearn.linear_model import LinearRegression\n",
    "reg_xgb=LinearRegression()\n",
    "hyperparameter_grid = {\n",
    "'n_jobs':[10]\n",
    "    \n",
    "}\n",
    "clf = GridSearchCV(reg_xgb, hyperparameter_grid, cv=5, verbose=0,return_train_score=True,scoring='neg_mean_squared_error') \n",
    "best_model = clf.fit(X_train, Y_train.values.ravel())\n",
    "print(\"n_jobs:\", best_model.best_estimator_.get_params()['n_jobs'])\n",
    "print(\"Best_score\", -best_model.best_score_)\n",
    "print(\"Test MSE:\",-best_model.cv_results_['mean_train_score'][np.argmin(best_model.cv_results_['rank_test_score'])])\n",
    "print(\"Validation MSE:\", -best_model.best_score_)"
   ]
  },
  {
   "cell_type": "code",
   "execution_count": null,
   "id": "9e7b31de",
   "metadata": {},
   "outputs": [],
   "source": []
  },
  {
   "cell_type": "markdown",
   "id": "2ff3f9a5",
   "metadata": {},
   "source": [
    "## SVM ANALYSIS\n",
    "\n",
    "\n"
   ]
  },
  {
   "cell_type": "code",
   "execution_count": 32,
   "id": "0b308b51",
   "metadata": {},
   "outputs": [],
   "source": [
    "df=pd.read_excel('ML_Data5.xlsx')\n",
    "X=df.iloc[:,2:]\n",
    "Y=df.iloc[:,1:2]\n",
    "Y= np.log(Y)\n",
    "x_train, x_test, y_train, y_test = train_test_split(X, Y, test_size=0.2, random_state=10)"
   ]
  },
  {
   "cell_type": "code",
   "execution_count": 33,
   "id": "0e7d3ee7",
   "metadata": {
    "scrolled": true
   },
   "outputs": [
    {
     "name": "stdout",
     "output_type": "stream",
     "text": [
      "Training has R^2=0.87471, mse=0.30503 and mae=0.41966\n",
      "Test has R^2=0.82451, mse=0.44872 and mae=0.5724\n"
     ]
    }
   ],
   "source": [
    "from sklearn.svm import SVR\n",
    "model=SVR(kernel='rbf')\n",
    "model.fit(x_train,y_train.values.ravel())\n",
    "get_score('Training',actual=y_train,predicted=model.predict(x_train))\n",
    "\n",
    "get_score('Test',actual=y_test,predicted=model.predict(x_test))"
   ]
  },
  {
   "cell_type": "code",
   "execution_count": 34,
   "id": "c4b17cf2",
   "metadata": {},
   "outputs": [
    {
     "name": "stdout",
     "output_type": "stream",
     "text": [
      "kernel: rbf\n",
      "Best_score 0.8505926189588446\n",
      "Test R2: 0.9479284441760637\n",
      "Validation R2: 0.8505926189588446\n"
     ]
    }
   ],
   "source": [
    "X_train, X_test, Y_train, Y_test = train_test_split(X, Y, random_state=32)\n",
    "from sklearn.model_selection import GridSearchCV\n",
    "from sklearn.svm import SVR\n",
    "kernel='rbf'\n",
    "reg_xgb=SVR()\n",
    "hyperparameter_grid = {\n",
    "'kernel':[kernel]\n",
    "    \n",
    "}\n",
    "clf = GridSearchCV(reg_xgb, hyperparameter_grid, cv=5, verbose=0,return_train_score=True,scoring='r2') \n",
    "best_model = clf.fit(X_train, Y_train.values.ravel())\n",
    "print(\"kernel:\", best_model.best_estimator_.get_params()['kernel'])\n",
    "print(\"Best_score\", best_model.best_score_)\n",
    "print(\"Test R2:\",best_model.cv_results_['mean_train_score'][np.argmin(best_model.cv_results_['rank_test_score'])])\n",
    "print(\"Validation R2:\", best_model.best_score_)"
   ]
  },
  {
   "cell_type": "code",
   "execution_count": null,
   "id": "8887390c",
   "metadata": {},
   "outputs": [],
   "source": []
  },
  {
   "cell_type": "code",
   "execution_count": 35,
   "id": "fd34b4d4",
   "metadata": {},
   "outputs": [
    {
     "name": "stdout",
     "output_type": "stream",
     "text": [
      "kernel: rbf\n",
      "Best_score 0.27524498833151656\n",
      "Test MSE: 0.1364084570980934\n",
      "Validation MSE: 0.27524498833151656\n"
     ]
    }
   ],
   "source": [
    "X_train, X_test, Y_train, Y_test = train_test_split(X, Y, random_state=32)\n",
    "from sklearn.model_selection import GridSearchCV\n",
    "from sklearn.svm import SVR\n",
    "kernel='rbf'\n",
    "reg_xgb=SVR()\n",
    "hyperparameter_grid = {\n",
    "'kernel':[kernel]\n",
    "    \n",
    "}\n",
    "clf = GridSearchCV(reg_xgb, hyperparameter_grid, cv=5, verbose=0,return_train_score=True,scoring='neg_mean_squared_error') \n",
    "best_model = clf.fit(X_train, Y_train.values.ravel())\n",
    "print(\"kernel:\", best_model.best_estimator_.get_params()['kernel'])\n",
    "print(\"Best_score\", -best_model.best_score_)\n",
    "print(\"Test MSE:\",-best_model.cv_results_['mean_train_score'][np.argmin(best_model.cv_results_['rank_test_score'])])\n",
    "print(\"Validation MSE:\", -best_model.best_score_)"
   ]
  },
  {
   "cell_type": "code",
   "execution_count": null,
   "id": "cc75d6d5",
   "metadata": {},
   "outputs": [],
   "source": []
  },
  {
   "cell_type": "code",
   "execution_count": null,
   "id": "bec72df5",
   "metadata": {},
   "outputs": [],
   "source": []
  },
  {
   "cell_type": "markdown",
   "id": "ec064b8d",
   "metadata": {},
   "source": [
    "## ANN REGRESSION"
   ]
  },
  {
   "cell_type": "code",
   "execution_count": 36,
   "id": "aaa4f884",
   "metadata": {},
   "outputs": [],
   "source": [
    "from sklearn.neural_network import MLPRegressor\n"
   ]
  },
  {
   "cell_type": "code",
   "execution_count": 37,
   "id": "b94e3560",
   "metadata": {},
   "outputs": [
    {
     "name": "stderr",
     "output_type": "stream",
     "text": [
      "/Users/indrajeetmandal/opt/anaconda3/envs/indr/lib/python3.10/site-packages/sklearn/neural_network/_multilayer_perceptron.py:1617: DataConversionWarning: A column-vector y was passed when a 1d array was expected. Please change the shape of y to (n_samples, ), for example using ravel().\n",
      "  y = column_or_1d(y, warn=True)\n",
      "/Users/indrajeetmandal/opt/anaconda3/envs/indr/lib/python3.10/site-packages/sklearn/neural_network/_multilayer_perceptron.py:684: ConvergenceWarning: Stochastic Optimizer: Maximum iterations (1000) reached and the optimization hasn't converged yet.\n",
      "  warnings.warn(\n",
      "/Users/indrajeetmandal/opt/anaconda3/envs/indr/lib/python3.10/site-packages/sklearn/neural_network/_multilayer_perceptron.py:1617: DataConversionWarning: A column-vector y was passed when a 1d array was expected. Please change the shape of y to (n_samples, ), for example using ravel().\n",
      "  y = column_or_1d(y, warn=True)\n"
     ]
    },
    {
     "name": "stdout",
     "output_type": "stream",
     "text": [
      "Training has R^2=0.824, mse=0.42849 and mae=0.50427\n",
      "Test has R^2=0.44589, mse=1.4168 and mae=0.94013\n",
      "0\n",
      "Training has R^2=0.88604, mse=0.27745 and mae=0.43399\n",
      "Test has R^2=0.61352, mse=0.98819 and mae=0.82419\n",
      "1\n"
     ]
    },
    {
     "name": "stderr",
     "output_type": "stream",
     "text": [
      "/Users/indrajeetmandal/opt/anaconda3/envs/indr/lib/python3.10/site-packages/sklearn/neural_network/_multilayer_perceptron.py:1617: DataConversionWarning: A column-vector y was passed when a 1d array was expected. Please change the shape of y to (n_samples, ), for example using ravel().\n",
      "  y = column_or_1d(y, warn=True)\n",
      "/Users/indrajeetmandal/opt/anaconda3/envs/indr/lib/python3.10/site-packages/sklearn/neural_network/_multilayer_perceptron.py:1617: DataConversionWarning: A column-vector y was passed when a 1d array was expected. Please change the shape of y to (n_samples, ), for example using ravel().\n",
      "  y = column_or_1d(y, warn=True)\n"
     ]
    },
    {
     "name": "stdout",
     "output_type": "stream",
     "text": [
      "Training has R^2=0.92366, mse=0.18586 and mae=0.34232\n",
      "Test has R^2=0.83236, mse=0.42863 and mae=0.49246\n",
      "2\n",
      "Training has R^2=0.90367, mse=0.23453 and mae=0.38193\n",
      "Test has R^2=0.85123, mse=0.38039 and mae=0.46205\n",
      "3\n"
     ]
    },
    {
     "name": "stderr",
     "output_type": "stream",
     "text": [
      "/Users/indrajeetmandal/opt/anaconda3/envs/indr/lib/python3.10/site-packages/sklearn/neural_network/_multilayer_perceptron.py:684: ConvergenceWarning: Stochastic Optimizer: Maximum iterations (1000) reached and the optimization hasn't converged yet.\n",
      "  warnings.warn(\n",
      "/Users/indrajeetmandal/opt/anaconda3/envs/indr/lib/python3.10/site-packages/sklearn/neural_network/_multilayer_perceptron.py:1617: DataConversionWarning: A column-vector y was passed when a 1d array was expected. Please change the shape of y to (n_samples, ), for example using ravel().\n",
      "  y = column_or_1d(y, warn=True)\n",
      "/Users/indrajeetmandal/opt/anaconda3/envs/indr/lib/python3.10/site-packages/sklearn/neural_network/_multilayer_perceptron.py:684: ConvergenceWarning: Stochastic Optimizer: Maximum iterations (1000) reached and the optimization hasn't converged yet.\n",
      "  warnings.warn(\n",
      "/Users/indrajeetmandal/opt/anaconda3/envs/indr/lib/python3.10/site-packages/sklearn/neural_network/_multilayer_perceptron.py:1617: DataConversionWarning: A column-vector y was passed when a 1d array was expected. Please change the shape of y to (n_samples, ), for example using ravel().\n",
      "  y = column_or_1d(y, warn=True)\n"
     ]
    },
    {
     "name": "stdout",
     "output_type": "stream",
     "text": [
      "Training has R^2=0.72612, mse=0.66678 and mae=0.6119\n",
      "Test has R^2=0.13407, mse=2.21409 and mae=1.22155\n",
      "4\n",
      "Training has R^2=0.78508, mse=0.52325 and mae=0.59605\n",
      "Test has R^2=-0.13841, mse=2.91078 and mae=1.1639\n",
      "5\n"
     ]
    },
    {
     "name": "stderr",
     "output_type": "stream",
     "text": [
      "/Users/indrajeetmandal/opt/anaconda3/envs/indr/lib/python3.10/site-packages/sklearn/neural_network/_multilayer_perceptron.py:684: ConvergenceWarning: Stochastic Optimizer: Maximum iterations (1000) reached and the optimization hasn't converged yet.\n",
      "  warnings.warn(\n",
      "/Users/indrajeetmandal/opt/anaconda3/envs/indr/lib/python3.10/site-packages/sklearn/neural_network/_multilayer_perceptron.py:1617: DataConversionWarning: A column-vector y was passed when a 1d array was expected. Please change the shape of y to (n_samples, ), for example using ravel().\n",
      "  y = column_or_1d(y, warn=True)\n",
      "/Users/indrajeetmandal/opt/anaconda3/envs/indr/lib/python3.10/site-packages/sklearn/neural_network/_multilayer_perceptron.py:684: ConvergenceWarning: Stochastic Optimizer: Maximum iterations (1000) reached and the optimization hasn't converged yet.\n",
      "  warnings.warn(\n",
      "/Users/indrajeetmandal/opt/anaconda3/envs/indr/lib/python3.10/site-packages/sklearn/neural_network/_multilayer_perceptron.py:1617: DataConversionWarning: A column-vector y was passed when a 1d array was expected. Please change the shape of y to (n_samples, ), for example using ravel().\n",
      "  y = column_or_1d(y, warn=True)\n"
     ]
    },
    {
     "name": "stdout",
     "output_type": "stream",
     "text": [
      "Training has R^2=0.75403, mse=0.59883 and mae=0.66832\n",
      "Test has R^2=0.88678, mse=0.28949 and mae=0.40872\n",
      "6\n",
      "Training has R^2=-0.17155, mse=2.85223 and mae=1.29016\n",
      "Test has R^2=-0.9781, mse=5.05779 and mae=1.58475\n",
      "7\n"
     ]
    },
    {
     "name": "stderr",
     "output_type": "stream",
     "text": [
      "/Users/indrajeetmandal/opt/anaconda3/envs/indr/lib/python3.10/site-packages/sklearn/neural_network/_multilayer_perceptron.py:684: ConvergenceWarning: Stochastic Optimizer: Maximum iterations (1000) reached and the optimization hasn't converged yet.\n",
      "  warnings.warn(\n",
      "/Users/indrajeetmandal/opt/anaconda3/envs/indr/lib/python3.10/site-packages/sklearn/neural_network/_multilayer_perceptron.py:1617: DataConversionWarning: A column-vector y was passed when a 1d array was expected. Please change the shape of y to (n_samples, ), for example using ravel().\n",
      "  y = column_or_1d(y, warn=True)\n",
      "/Users/indrajeetmandal/opt/anaconda3/envs/indr/lib/python3.10/site-packages/sklearn/neural_network/_multilayer_perceptron.py:684: ConvergenceWarning: Stochastic Optimizer: Maximum iterations (1000) reached and the optimization hasn't converged yet.\n",
      "  warnings.warn(\n",
      "/Users/indrajeetmandal/opt/anaconda3/envs/indr/lib/python3.10/site-packages/sklearn/neural_network/_multilayer_perceptron.py:1617: DataConversionWarning: A column-vector y was passed when a 1d array was expected. Please change the shape of y to (n_samples, ), for example using ravel().\n",
      "  y = column_or_1d(y, warn=True)\n"
     ]
    },
    {
     "name": "stdout",
     "output_type": "stream",
     "text": [
      "Training has R^2=0.92931, mse=0.17211 and mae=0.2971\n",
      "Test has R^2=0.79085, mse=0.53478 and mae=0.66399\n",
      "8\n",
      "Training has R^2=0.59561, mse=0.98451 and mae=0.68505\n",
      "Test has R^2=-0.89387, mse=4.84242 and mae=1.40811\n",
      "9\n"
     ]
    },
    {
     "name": "stderr",
     "output_type": "stream",
     "text": [
      "/Users/indrajeetmandal/opt/anaconda3/envs/indr/lib/python3.10/site-packages/sklearn/neural_network/_multilayer_perceptron.py:684: ConvergenceWarning: Stochastic Optimizer: Maximum iterations (1000) reached and the optimization hasn't converged yet.\n",
      "  warnings.warn(\n",
      "/Users/indrajeetmandal/opt/anaconda3/envs/indr/lib/python3.10/site-packages/sklearn/neural_network/_multilayer_perceptron.py:1617: DataConversionWarning: A column-vector y was passed when a 1d array was expected. Please change the shape of y to (n_samples, ), for example using ravel().\n",
      "  y = column_or_1d(y, warn=True)\n",
      "/Users/indrajeetmandal/opt/anaconda3/envs/indr/lib/python3.10/site-packages/sklearn/neural_network/_multilayer_perceptron.py:1617: DataConversionWarning: A column-vector y was passed when a 1d array was expected. Please change the shape of y to (n_samples, ), for example using ravel().\n",
      "  y = column_or_1d(y, warn=True)\n"
     ]
    },
    {
     "name": "stdout",
     "output_type": "stream",
     "text": [
      "Training has R^2=0.91995, mse=0.19488 and mae=0.34213\n",
      "Test has R^2=0.5546, mse=1.13883 and mae=0.83277\n",
      "10\n",
      "Training has R^2=0.69475, mse=0.74316 and mae=0.71629\n",
      "Test has R^2=0.40286, mse=1.52684 and mae=0.83544\n",
      "11\n"
     ]
    },
    {
     "name": "stderr",
     "output_type": "stream",
     "text": [
      "/Users/indrajeetmandal/opt/anaconda3/envs/indr/lib/python3.10/site-packages/sklearn/neural_network/_multilayer_perceptron.py:684: ConvergenceWarning: Stochastic Optimizer: Maximum iterations (1000) reached and the optimization hasn't converged yet.\n",
      "  warnings.warn(\n",
      "/Users/indrajeetmandal/opt/anaconda3/envs/indr/lib/python3.10/site-packages/sklearn/neural_network/_multilayer_perceptron.py:1617: DataConversionWarning: A column-vector y was passed when a 1d array was expected. Please change the shape of y to (n_samples, ), for example using ravel().\n",
      "  y = column_or_1d(y, warn=True)\n",
      "/Users/indrajeetmandal/opt/anaconda3/envs/indr/lib/python3.10/site-packages/sklearn/neural_network/_multilayer_perceptron.py:684: ConvergenceWarning: Stochastic Optimizer: Maximum iterations (1000) reached and the optimization hasn't converged yet.\n",
      "  warnings.warn(\n",
      "/Users/indrajeetmandal/opt/anaconda3/envs/indr/lib/python3.10/site-packages/sklearn/neural_network/_multilayer_perceptron.py:1617: DataConversionWarning: A column-vector y was passed when a 1d array was expected. Please change the shape of y to (n_samples, ), for example using ravel().\n",
      "  y = column_or_1d(y, warn=True)\n"
     ]
    },
    {
     "name": "stdout",
     "output_type": "stream",
     "text": [
      "Training has R^2=0.8286, mse=0.41728 and mae=0.50702\n",
      "Test has R^2=0.87114, mse=0.32947 and mae=0.4534\n",
      "12\n",
      "Training has R^2=0.81707, mse=0.44536 and mae=0.58561\n",
      "Test has R^2=0.60114, mse=1.01985 and mae=0.64506\n",
      "13\n"
     ]
    },
    {
     "name": "stderr",
     "output_type": "stream",
     "text": [
      "/Users/indrajeetmandal/opt/anaconda3/envs/indr/lib/python3.10/site-packages/sklearn/neural_network/_multilayer_perceptron.py:684: ConvergenceWarning: Stochastic Optimizer: Maximum iterations (1000) reached and the optimization hasn't converged yet.\n",
      "  warnings.warn(\n",
      "/Users/indrajeetmandal/opt/anaconda3/envs/indr/lib/python3.10/site-packages/sklearn/neural_network/_multilayer_perceptron.py:1617: DataConversionWarning: A column-vector y was passed when a 1d array was expected. Please change the shape of y to (n_samples, ), for example using ravel().\n",
      "  y = column_or_1d(y, warn=True)\n",
      "/Users/indrajeetmandal/opt/anaconda3/envs/indr/lib/python3.10/site-packages/sklearn/neural_network/_multilayer_perceptron.py:1617: DataConversionWarning: A column-vector y was passed when a 1d array was expected. Please change the shape of y to (n_samples, ), for example using ravel().\n",
      "  y = column_or_1d(y, warn=True)\n"
     ]
    },
    {
     "name": "stdout",
     "output_type": "stream",
     "text": [
      "Training has R^2=0.94009, mse=0.14586 and mae=0.30574\n",
      "Test has R^2=0.82333, mse=0.45171 and mae=0.51087\n",
      "14\n",
      "Training has R^2=0.83878, mse=0.3925 and mae=0.51624\n",
      "Test has R^2=0.05752, mse=2.40982 and mae=1.16629\n",
      "15\n"
     ]
    },
    {
     "name": "stderr",
     "output_type": "stream",
     "text": [
      "/Users/indrajeetmandal/opt/anaconda3/envs/indr/lib/python3.10/site-packages/sklearn/neural_network/_multilayer_perceptron.py:684: ConvergenceWarning: Stochastic Optimizer: Maximum iterations (1000) reached and the optimization hasn't converged yet.\n",
      "  warnings.warn(\n",
      "/Users/indrajeetmandal/opt/anaconda3/envs/indr/lib/python3.10/site-packages/sklearn/neural_network/_multilayer_perceptron.py:1617: DataConversionWarning: A column-vector y was passed when a 1d array was expected. Please change the shape of y to (n_samples, ), for example using ravel().\n",
      "  y = column_or_1d(y, warn=True)\n",
      "/Users/indrajeetmandal/opt/anaconda3/envs/indr/lib/python3.10/site-packages/sklearn/neural_network/_multilayer_perceptron.py:684: ConvergenceWarning: Stochastic Optimizer: Maximum iterations (1000) reached and the optimization hasn't converged yet.\n",
      "  warnings.warn(\n",
      "/Users/indrajeetmandal/opt/anaconda3/envs/indr/lib/python3.10/site-packages/sklearn/neural_network/_multilayer_perceptron.py:1617: DataConversionWarning: A column-vector y was passed when a 1d array was expected. Please change the shape of y to (n_samples, ), for example using ravel().\n",
      "  y = column_or_1d(y, warn=True)\n"
     ]
    },
    {
     "name": "stdout",
     "output_type": "stream",
     "text": [
      "Training has R^2=0.85658, mse=0.34916 and mae=0.46279\n",
      "Test has R^2=0.63692, mse=0.92834 and mae=0.74698\n",
      "16\n",
      "Training has R^2=0.69192, mse=0.75004 and mae=0.68499\n",
      "Test has R^2=0.26575, mse=1.87739 and mae=1.07455\n",
      "17\n"
     ]
    },
    {
     "name": "stderr",
     "output_type": "stream",
     "text": [
      "/Users/indrajeetmandal/opt/anaconda3/envs/indr/lib/python3.10/site-packages/sklearn/neural_network/_multilayer_perceptron.py:684: ConvergenceWarning: Stochastic Optimizer: Maximum iterations (1000) reached and the optimization hasn't converged yet.\n",
      "  warnings.warn(\n",
      "/Users/indrajeetmandal/opt/anaconda3/envs/indr/lib/python3.10/site-packages/sklearn/neural_network/_multilayer_perceptron.py:1617: DataConversionWarning: A column-vector y was passed when a 1d array was expected. Please change the shape of y to (n_samples, ), for example using ravel().\n",
      "  y = column_or_1d(y, warn=True)\n",
      "/Users/indrajeetmandal/opt/anaconda3/envs/indr/lib/python3.10/site-packages/sklearn/neural_network/_multilayer_perceptron.py:684: ConvergenceWarning: Stochastic Optimizer: Maximum iterations (1000) reached and the optimization hasn't converged yet.\n",
      "  warnings.warn(\n",
      "/Users/indrajeetmandal/opt/anaconda3/envs/indr/lib/python3.10/site-packages/sklearn/neural_network/_multilayer_perceptron.py:1617: DataConversionWarning: A column-vector y was passed when a 1d array was expected. Please change the shape of y to (n_samples, ), for example using ravel().\n",
      "  y = column_or_1d(y, warn=True)\n"
     ]
    },
    {
     "name": "stdout",
     "output_type": "stream",
     "text": [
      "Training has R^2=0.8344, mse=0.40318 and mae=0.49778\n",
      "Test has R^2=0.16833, mse=2.12649 and mae=1.15186\n",
      "18\n",
      "Training has R^2=0.49559, mse=1.22803 and mae=0.83143\n",
      "Test has R^2=-0.2401, mse=3.1708 and mae=1.05103\n",
      "19\n",
      "Training has R^2=0.02817, mse=2.36599 and mae=1.32765\n",
      "Test has R^2=0.19045, mse=2.06994 and mae=1.18172\n",
      "20\n"
     ]
    },
    {
     "name": "stderr",
     "output_type": "stream",
     "text": [
      "/Users/indrajeetmandal/opt/anaconda3/envs/indr/lib/python3.10/site-packages/sklearn/neural_network/_multilayer_perceptron.py:684: ConvergenceWarning: Stochastic Optimizer: Maximum iterations (1000) reached and the optimization hasn't converged yet.\n",
      "  warnings.warn(\n",
      "/Users/indrajeetmandal/opt/anaconda3/envs/indr/lib/python3.10/site-packages/sklearn/neural_network/_multilayer_perceptron.py:1617: DataConversionWarning: A column-vector y was passed when a 1d array was expected. Please change the shape of y to (n_samples, ), for example using ravel().\n",
      "  y = column_or_1d(y, warn=True)\n",
      "/Users/indrajeetmandal/opt/anaconda3/envs/indr/lib/python3.10/site-packages/sklearn/neural_network/_multilayer_perceptron.py:1617: DataConversionWarning: A column-vector y was passed when a 1d array was expected. Please change the shape of y to (n_samples, ), for example using ravel().\n",
      "  y = column_or_1d(y, warn=True)\n",
      "/Users/indrajeetmandal/opt/anaconda3/envs/indr/lib/python3.10/site-packages/sklearn/neural_network/_multilayer_perceptron.py:1617: DataConversionWarning: A column-vector y was passed when a 1d array was expected. Please change the shape of y to (n_samples, ), for example using ravel().\n",
      "  y = column_or_1d(y, warn=True)\n",
      "/Users/indrajeetmandal/opt/anaconda3/envs/indr/lib/python3.10/site-packages/sklearn/neural_network/_multilayer_perceptron.py:684: ConvergenceWarning: Stochastic Optimizer: Maximum iterations (1000) reached and the optimization hasn't converged yet.\n",
      "  warnings.warn(\n",
      "/Users/indrajeetmandal/opt/anaconda3/envs/indr/lib/python3.10/site-packages/sklearn/neural_network/_multilayer_perceptron.py:1617: DataConversionWarning: A column-vector y was passed when a 1d array was expected. Please change the shape of y to (n_samples, ), for example using ravel().\n",
      "  y = column_or_1d(y, warn=True)\n"
     ]
    },
    {
     "name": "stdout",
     "output_type": "stream",
     "text": [
      "Training has R^2=0.2422, mse=1.84493 and mae=1.03695\n",
      "Test has R^2=0.76273, mse=0.60669 and mae=0.54893\n",
      "21\n",
      "Training has R^2=0.82586, mse=0.42395 and mae=0.50866\n",
      "Test has R^2=-0.12062, mse=2.8653 and mae=1.3919\n",
      "22\n"
     ]
    },
    {
     "name": "stderr",
     "output_type": "stream",
     "text": [
      "/Users/indrajeetmandal/opt/anaconda3/envs/indr/lib/python3.10/site-packages/sklearn/neural_network/_multilayer_perceptron.py:684: ConvergenceWarning: Stochastic Optimizer: Maximum iterations (1000) reached and the optimization hasn't converged yet.\n",
      "  warnings.warn(\n",
      "/Users/indrajeetmandal/opt/anaconda3/envs/indr/lib/python3.10/site-packages/sklearn/neural_network/_multilayer_perceptron.py:1617: DataConversionWarning: A column-vector y was passed when a 1d array was expected. Please change the shape of y to (n_samples, ), for example using ravel().\n",
      "  y = column_or_1d(y, warn=True)\n",
      "/Users/indrajeetmandal/opt/anaconda3/envs/indr/lib/python3.10/site-packages/sklearn/neural_network/_multilayer_perceptron.py:1617: DataConversionWarning: A column-vector y was passed when a 1d array was expected. Please change the shape of y to (n_samples, ), for example using ravel().\n",
      "  y = column_or_1d(y, warn=True)\n",
      "/Users/indrajeetmandal/opt/anaconda3/envs/indr/lib/python3.10/site-packages/sklearn/neural_network/_multilayer_perceptron.py:1617: DataConversionWarning: A column-vector y was passed when a 1d array was expected. Please change the shape of y to (n_samples, ), for example using ravel().\n",
      "  y = column_or_1d(y, warn=True)\n"
     ]
    },
    {
     "name": "stdout",
     "output_type": "stream",
     "text": [
      "Training has R^2=0.73333, mse=0.64922 and mae=0.53731\n",
      "Test has R^2=0.45104, mse=1.40363 and mae=0.81712\n",
      "23\n",
      "Training has R^2=-0.88715, mse=4.59442 and mae=1.7966\n",
      "Test has R^2=-0.09553, mse=2.80115 and mae=1.38531\n",
      "24\n",
      "Training has R^2=0.96328, mse=0.08939 and mae=0.2201\n",
      "Test has R^2=0.83547, mse=0.4207 and mae=0.54048\n",
      "25\n"
     ]
    },
    {
     "name": "stderr",
     "output_type": "stream",
     "text": [
      "/Users/indrajeetmandal/opt/anaconda3/envs/indr/lib/python3.10/site-packages/sklearn/neural_network/_multilayer_perceptron.py:684: ConvergenceWarning: Stochastic Optimizer: Maximum iterations (1000) reached and the optimization hasn't converged yet.\n",
      "  warnings.warn(\n",
      "/Users/indrajeetmandal/opt/anaconda3/envs/indr/lib/python3.10/site-packages/sklearn/neural_network/_multilayer_perceptron.py:1617: DataConversionWarning: A column-vector y was passed when a 1d array was expected. Please change the shape of y to (n_samples, ), for example using ravel().\n",
      "  y = column_or_1d(y, warn=True)\n",
      "/Users/indrajeetmandal/opt/anaconda3/envs/indr/lib/python3.10/site-packages/sklearn/neural_network/_multilayer_perceptron.py:684: ConvergenceWarning: Stochastic Optimizer: Maximum iterations (1000) reached and the optimization hasn't converged yet.\n",
      "  warnings.warn(\n",
      "/Users/indrajeetmandal/opt/anaconda3/envs/indr/lib/python3.10/site-packages/sklearn/neural_network/_multilayer_perceptron.py:1617: DataConversionWarning: A column-vector y was passed when a 1d array was expected. Please change the shape of y to (n_samples, ), for example using ravel().\n",
      "  y = column_or_1d(y, warn=True)\n",
      "/Users/indrajeetmandal/opt/anaconda3/envs/indr/lib/python3.10/site-packages/sklearn/neural_network/_multilayer_perceptron.py:684: ConvergenceWarning: Stochastic Optimizer: Maximum iterations (1000) reached and the optimization hasn't converged yet.\n",
      "  warnings.warn(\n",
      "/Users/indrajeetmandal/opt/anaconda3/envs/indr/lib/python3.10/site-packages/sklearn/neural_network/_multilayer_perceptron.py:1617: DataConversionWarning: A column-vector y was passed when a 1d array was expected. Please change the shape of y to (n_samples, ), for example using ravel().\n",
      "  y = column_or_1d(y, warn=True)\n"
     ]
    },
    {
     "name": "stdout",
     "output_type": "stream",
     "text": [
      "Training has R^2=0.74893, mse=0.61125 and mae=0.62531\n",
      "Test has R^2=0.60115, mse=1.01983 and mae=0.74895\n",
      "26\n",
      "Training has R^2=0.85145, mse=0.36165 and mae=0.49717\n",
      "Test has R^2=0.45773, mse=1.38653 and mae=0.93951\n",
      "27\n",
      "Training has R^2=0.32135, mse=1.65222 and mae=1.03014\n",
      "Test has R^2=-1.69614, mse=6.89374 and mae=2.25308\n",
      "28\n"
     ]
    },
    {
     "name": "stderr",
     "output_type": "stream",
     "text": [
      "/Users/indrajeetmandal/opt/anaconda3/envs/indr/lib/python3.10/site-packages/sklearn/neural_network/_multilayer_perceptron.py:684: ConvergenceWarning: Stochastic Optimizer: Maximum iterations (1000) reached and the optimization hasn't converged yet.\n",
      "  warnings.warn(\n",
      "/Users/indrajeetmandal/opt/anaconda3/envs/indr/lib/python3.10/site-packages/sklearn/neural_network/_multilayer_perceptron.py:1617: DataConversionWarning: A column-vector y was passed when a 1d array was expected. Please change the shape of y to (n_samples, ), for example using ravel().\n",
      "  y = column_or_1d(y, warn=True)\n",
      "/Users/indrajeetmandal/opt/anaconda3/envs/indr/lib/python3.10/site-packages/sklearn/neural_network/_multilayer_perceptron.py:684: ConvergenceWarning: Stochastic Optimizer: Maximum iterations (1000) reached and the optimization hasn't converged yet.\n",
      "  warnings.warn(\n",
      "/Users/indrajeetmandal/opt/anaconda3/envs/indr/lib/python3.10/site-packages/sklearn/neural_network/_multilayer_perceptron.py:1617: DataConversionWarning: A column-vector y was passed when a 1d array was expected. Please change the shape of y to (n_samples, ), for example using ravel().\n",
      "  y = column_or_1d(y, warn=True)\n"
     ]
    },
    {
     "name": "stdout",
     "output_type": "stream",
     "text": [
      "Training has R^2=0.85517, mse=0.3526 and mae=0.43999\n",
      "Test has R^2=0.50841, mse=1.25695 and mae=0.86983\n",
      "29\n",
      "Training has R^2=0.84878, mse=0.36815 and mae=0.54275\n",
      "Test has R^2=0.82079, mse=0.45822 and mae=0.64841\n",
      "30\n",
      "Training has R^2=0.86224, mse=0.33539 and mae=0.49892\n",
      "Test has R^2=0.66042, mse=0.86827 and mae=0.73443\n",
      "31\n",
      "Training has R^2=0.88333, mse=0.28405 and mae=0.45857\n",
      "Test has R^2=0.86206, mse=0.35271 and mae=0.50198\n",
      "32\n"
     ]
    },
    {
     "name": "stderr",
     "output_type": "stream",
     "text": [
      "/Users/indrajeetmandal/opt/anaconda3/envs/indr/lib/python3.10/site-packages/sklearn/neural_network/_multilayer_perceptron.py:1617: DataConversionWarning: A column-vector y was passed when a 1d array was expected. Please change the shape of y to (n_samples, ), for example using ravel().\n",
      "  y = column_or_1d(y, warn=True)\n",
      "/Users/indrajeetmandal/opt/anaconda3/envs/indr/lib/python3.10/site-packages/sklearn/neural_network/_multilayer_perceptron.py:684: ConvergenceWarning: Stochastic Optimizer: Maximum iterations (1000) reached and the optimization hasn't converged yet.\n",
      "  warnings.warn(\n",
      "/Users/indrajeetmandal/opt/anaconda3/envs/indr/lib/python3.10/site-packages/sklearn/neural_network/_multilayer_perceptron.py:1617: DataConversionWarning: A column-vector y was passed when a 1d array was expected. Please change the shape of y to (n_samples, ), for example using ravel().\n",
      "  y = column_or_1d(y, warn=True)\n",
      "/Users/indrajeetmandal/opt/anaconda3/envs/indr/lib/python3.10/site-packages/sklearn/neural_network/_multilayer_perceptron.py:684: ConvergenceWarning: Stochastic Optimizer: Maximum iterations (1000) reached and the optimization hasn't converged yet.\n",
      "  warnings.warn(\n",
      "/Users/indrajeetmandal/opt/anaconda3/envs/indr/lib/python3.10/site-packages/sklearn/neural_network/_multilayer_perceptron.py:1617: DataConversionWarning: A column-vector y was passed when a 1d array was expected. Please change the shape of y to (n_samples, ), for example using ravel().\n",
      "  y = column_or_1d(y, warn=True)\n",
      "/Users/indrajeetmandal/opt/anaconda3/envs/indr/lib/python3.10/site-packages/sklearn/neural_network/_multilayer_perceptron.py:684: ConvergenceWarning: Stochastic Optimizer: Maximum iterations (1000) reached and the optimization hasn't converged yet.\n",
      "  warnings.warn(\n",
      "/Users/indrajeetmandal/opt/anaconda3/envs/indr/lib/python3.10/site-packages/sklearn/neural_network/_multilayer_perceptron.py:1617: DataConversionWarning: A column-vector y was passed when a 1d array was expected. Please change the shape of y to (n_samples, ), for example using ravel().\n",
      "  y = column_or_1d(y, warn=True)\n"
     ]
    },
    {
     "name": "stdout",
     "output_type": "stream",
     "text": [
      "Training has R^2=0.80243, mse=0.481 and mae=0.48737\n",
      "Test has R^2=-0.03386, mse=2.64346 and mae=0.95113\n",
      "33\n",
      "Training has R^2=0.36838, mse=1.53773 and mae=1.06889\n",
      "Test has R^2=0.66425, mse=0.85849 and mae=0.72358\n",
      "34\n"
     ]
    },
    {
     "name": "stderr",
     "output_type": "stream",
     "text": [
      "/Users/indrajeetmandal/opt/anaconda3/envs/indr/lib/python3.10/site-packages/sklearn/neural_network/_multilayer_perceptron.py:684: ConvergenceWarning: Stochastic Optimizer: Maximum iterations (1000) reached and the optimization hasn't converged yet.\n",
      "  warnings.warn(\n",
      "/Users/indrajeetmandal/opt/anaconda3/envs/indr/lib/python3.10/site-packages/sklearn/neural_network/_multilayer_perceptron.py:1617: DataConversionWarning: A column-vector y was passed when a 1d array was expected. Please change the shape of y to (n_samples, ), for example using ravel().\n",
      "  y = column_or_1d(y, warn=True)\n",
      "/Users/indrajeetmandal/opt/anaconda3/envs/indr/lib/python3.10/site-packages/sklearn/neural_network/_multilayer_perceptron.py:684: ConvergenceWarning: Stochastic Optimizer: Maximum iterations (1000) reached and the optimization hasn't converged yet.\n",
      "  warnings.warn(\n",
      "/Users/indrajeetmandal/opt/anaconda3/envs/indr/lib/python3.10/site-packages/sklearn/neural_network/_multilayer_perceptron.py:1617: DataConversionWarning: A column-vector y was passed when a 1d array was expected. Please change the shape of y to (n_samples, ), for example using ravel().\n",
      "  y = column_or_1d(y, warn=True)\n"
     ]
    },
    {
     "name": "stdout",
     "output_type": "stream",
     "text": [
      "Training has R^2=0.59738, mse=0.9802 and mae=0.78545\n",
      "Test has R^2=-1.75257, mse=7.03802 and mae=1.86809\n",
      "35\n",
      "Training has R^2=0.7237, mse=0.67266 and mae=0.67226\n",
      "Test has R^2=0.5645, mse=1.11352 and mae=0.85543\n",
      "36\n"
     ]
    },
    {
     "name": "stderr",
     "output_type": "stream",
     "text": [
      "/Users/indrajeetmandal/opt/anaconda3/envs/indr/lib/python3.10/site-packages/sklearn/neural_network/_multilayer_perceptron.py:684: ConvergenceWarning: Stochastic Optimizer: Maximum iterations (1000) reached and the optimization hasn't converged yet.\n",
      "  warnings.warn(\n",
      "/Users/indrajeetmandal/opt/anaconda3/envs/indr/lib/python3.10/site-packages/sklearn/neural_network/_multilayer_perceptron.py:1617: DataConversionWarning: A column-vector y was passed when a 1d array was expected. Please change the shape of y to (n_samples, ), for example using ravel().\n",
      "  y = column_or_1d(y, warn=True)\n",
      "/Users/indrajeetmandal/opt/anaconda3/envs/indr/lib/python3.10/site-packages/sklearn/neural_network/_multilayer_perceptron.py:684: ConvergenceWarning: Stochastic Optimizer: Maximum iterations (1000) reached and the optimization hasn't converged yet.\n",
      "  warnings.warn(\n",
      "/Users/indrajeetmandal/opt/anaconda3/envs/indr/lib/python3.10/site-packages/sklearn/neural_network/_multilayer_perceptron.py:1617: DataConversionWarning: A column-vector y was passed when a 1d array was expected. Please change the shape of y to (n_samples, ), for example using ravel().\n",
      "  y = column_or_1d(y, warn=True)\n"
     ]
    },
    {
     "name": "stdout",
     "output_type": "stream",
     "text": [
      "Training has R^2=0.21996, mse=1.89908 and mae=1.07969\n",
      "Test has R^2=-1.91897, mse=7.46348 and mae=2.05023\n",
      "37\n",
      "Training has R^2=0.75454, mse=0.5976 and mae=0.63504\n",
      "Test has R^2=0.80752, mse=0.49215 and mae=0.62803\n",
      "38\n"
     ]
    },
    {
     "name": "stderr",
     "output_type": "stream",
     "text": [
      "/Users/indrajeetmandal/opt/anaconda3/envs/indr/lib/python3.10/site-packages/sklearn/neural_network/_multilayer_perceptron.py:684: ConvergenceWarning: Stochastic Optimizer: Maximum iterations (1000) reached and the optimization hasn't converged yet.\n",
      "  warnings.warn(\n",
      "/Users/indrajeetmandal/opt/anaconda3/envs/indr/lib/python3.10/site-packages/sklearn/neural_network/_multilayer_perceptron.py:1617: DataConversionWarning: A column-vector y was passed when a 1d array was expected. Please change the shape of y to (n_samples, ), for example using ravel().\n",
      "  y = column_or_1d(y, warn=True)\n",
      "/Users/indrajeetmandal/opt/anaconda3/envs/indr/lib/python3.10/site-packages/sklearn/neural_network/_multilayer_perceptron.py:684: ConvergenceWarning: Stochastic Optimizer: Maximum iterations (1000) reached and the optimization hasn't converged yet.\n",
      "  warnings.warn(\n",
      "/Users/indrajeetmandal/opt/anaconda3/envs/indr/lib/python3.10/site-packages/sklearn/neural_network/_multilayer_perceptron.py:1617: DataConversionWarning: A column-vector y was passed when a 1d array was expected. Please change the shape of y to (n_samples, ), for example using ravel().\n",
      "  y = column_or_1d(y, warn=True)\n"
     ]
    },
    {
     "name": "stdout",
     "output_type": "stream",
     "text": [
      "Training has R^2=0.83787, mse=0.39472 and mae=0.5012\n",
      "Test has R^2=0.90781, mse=0.23572 and mae=0.44291\n",
      "39\n",
      "Training has R^2=0.55549, mse=1.0822 and mae=0.78203\n",
      "Test has R^2=-0.2693, mse=3.24545 and mae=1.09646\n",
      "40\n"
     ]
    },
    {
     "name": "stderr",
     "output_type": "stream",
     "text": [
      "/Users/indrajeetmandal/opt/anaconda3/envs/indr/lib/python3.10/site-packages/sklearn/neural_network/_multilayer_perceptron.py:684: ConvergenceWarning: Stochastic Optimizer: Maximum iterations (1000) reached and the optimization hasn't converged yet.\n",
      "  warnings.warn(\n",
      "/Users/indrajeetmandal/opt/anaconda3/envs/indr/lib/python3.10/site-packages/sklearn/neural_network/_multilayer_perceptron.py:1617: DataConversionWarning: A column-vector y was passed when a 1d array was expected. Please change the shape of y to (n_samples, ), for example using ravel().\n",
      "  y = column_or_1d(y, warn=True)\n",
      "/Users/indrajeetmandal/opt/anaconda3/envs/indr/lib/python3.10/site-packages/sklearn/neural_network/_multilayer_perceptron.py:684: ConvergenceWarning: Stochastic Optimizer: Maximum iterations (1000) reached and the optimization hasn't converged yet.\n",
      "  warnings.warn(\n",
      "/Users/indrajeetmandal/opt/anaconda3/envs/indr/lib/python3.10/site-packages/sklearn/neural_network/_multilayer_perceptron.py:1617: DataConversionWarning: A column-vector y was passed when a 1d array was expected. Please change the shape of y to (n_samples, ), for example using ravel().\n",
      "  y = column_or_1d(y, warn=True)\n",
      "/Users/indrajeetmandal/opt/anaconda3/envs/indr/lib/python3.10/site-packages/sklearn/neural_network/_multilayer_perceptron.py:1617: DataConversionWarning: A column-vector y was passed when a 1d array was expected. Please change the shape of y to (n_samples, ), for example using ravel().\n",
      "  y = column_or_1d(y, warn=True)\n"
     ]
    },
    {
     "name": "stdout",
     "output_type": "stream",
     "text": [
      "Training has R^2=0.92451, mse=0.18378 and mae=0.33518\n",
      "Test has R^2=0.95855, mse=0.10598 and mae=0.28059\n",
      "41\n",
      "Training has R^2=0.58043, mse=1.02146 and mae=0.78004\n",
      "Test has R^2=0.20859, mse=2.02355 and mae=0.78417\n",
      "42\n",
      "Training has R^2=0.0199, mse=2.38613 and mae=1.29011\n",
      "Test has R^2=-0.82063, mse=4.65515 and mae=1.81109\n",
      "43\n"
     ]
    },
    {
     "name": "stderr",
     "output_type": "stream",
     "text": [
      "/Users/indrajeetmandal/opt/anaconda3/envs/indr/lib/python3.10/site-packages/sklearn/neural_network/_multilayer_perceptron.py:684: ConvergenceWarning: Stochastic Optimizer: Maximum iterations (1000) reached and the optimization hasn't converged yet.\n",
      "  warnings.warn(\n",
      "/Users/indrajeetmandal/opt/anaconda3/envs/indr/lib/python3.10/site-packages/sklearn/neural_network/_multilayer_perceptron.py:1617: DataConversionWarning: A column-vector y was passed when a 1d array was expected. Please change the shape of y to (n_samples, ), for example using ravel().\n",
      "  y = column_or_1d(y, warn=True)\n",
      "/Users/indrajeetmandal/opt/anaconda3/envs/indr/lib/python3.10/site-packages/sklearn/neural_network/_multilayer_perceptron.py:684: ConvergenceWarning: Stochastic Optimizer: Maximum iterations (1000) reached and the optimization hasn't converged yet.\n",
      "  warnings.warn(\n",
      "/Users/indrajeetmandal/opt/anaconda3/envs/indr/lib/python3.10/site-packages/sklearn/neural_network/_multilayer_perceptron.py:1617: DataConversionWarning: A column-vector y was passed when a 1d array was expected. Please change the shape of y to (n_samples, ), for example using ravel().\n",
      "  y = column_or_1d(y, warn=True)\n"
     ]
    },
    {
     "name": "stdout",
     "output_type": "stream",
     "text": [
      "Training has R^2=0.27835, mse=1.75692 and mae=1.16877\n",
      "Test has R^2=-1.18836, mse=5.5954 and mae=1.78018\n",
      "44\n",
      "Training has R^2=0.86881, mse=0.31938 and mae=0.45663\n",
      "Test has R^2=0.82598, mse=0.44496 and mae=0.62351\n",
      "45\n"
     ]
    },
    {
     "name": "stderr",
     "output_type": "stream",
     "text": [
      "/Users/indrajeetmandal/opt/anaconda3/envs/indr/lib/python3.10/site-packages/sklearn/neural_network/_multilayer_perceptron.py:684: ConvergenceWarning: Stochastic Optimizer: Maximum iterations (1000) reached and the optimization hasn't converged yet.\n",
      "  warnings.warn(\n",
      "/Users/indrajeetmandal/opt/anaconda3/envs/indr/lib/python3.10/site-packages/sklearn/neural_network/_multilayer_perceptron.py:1617: DataConversionWarning: A column-vector y was passed when a 1d array was expected. Please change the shape of y to (n_samples, ), for example using ravel().\n",
      "  y = column_or_1d(y, warn=True)\n",
      "/Users/indrajeetmandal/opt/anaconda3/envs/indr/lib/python3.10/site-packages/sklearn/neural_network/_multilayer_perceptron.py:684: ConvergenceWarning: Stochastic Optimizer: Maximum iterations (1000) reached and the optimization hasn't converged yet.\n",
      "  warnings.warn(\n",
      "/Users/indrajeetmandal/opt/anaconda3/envs/indr/lib/python3.10/site-packages/sklearn/neural_network/_multilayer_perceptron.py:1617: DataConversionWarning: A column-vector y was passed when a 1d array was expected. Please change the shape of y to (n_samples, ), for example using ravel().\n",
      "  y = column_or_1d(y, warn=True)\n"
     ]
    },
    {
     "name": "stdout",
     "output_type": "stream",
     "text": [
      "Training has R^2=0.69915, mse=0.73245 and mae=0.71575\n",
      "Test has R^2=0.19271, mse=2.06415 and mae=1.18353\n",
      "46\n",
      "Training has R^2=0.36651, mse=1.54228 and mae=0.98187\n",
      "Test has R^2=0.6594, mse=0.87089 and mae=0.68954\n",
      "47\n",
      "Training has R^2=0.91726, mse=0.20144 and mae=0.34593\n",
      "Test has R^2=0.78955, mse=0.5381 and mae=0.5495\n",
      "48\n",
      "Training has R^2=0.87817, mse=0.29661 and mae=0.44593\n",
      "Test has R^2=0.78001, mse=0.56248 and mae=0.63267\n",
      "49\n"
     ]
    },
    {
     "name": "stderr",
     "output_type": "stream",
     "text": [
      "/Users/indrajeetmandal/opt/anaconda3/envs/indr/lib/python3.10/site-packages/sklearn/neural_network/_multilayer_perceptron.py:1617: DataConversionWarning: A column-vector y was passed when a 1d array was expected. Please change the shape of y to (n_samples, ), for example using ravel().\n",
      "  y = column_or_1d(y, warn=True)\n",
      "/Users/indrajeetmandal/opt/anaconda3/envs/indr/lib/python3.10/site-packages/sklearn/neural_network/_multilayer_perceptron.py:1617: DataConversionWarning: A column-vector y was passed when a 1d array was expected. Please change the shape of y to (n_samples, ), for example using ravel().\n",
      "  y = column_or_1d(y, warn=True)\n",
      "/Users/indrajeetmandal/opt/anaconda3/envs/indr/lib/python3.10/site-packages/sklearn/neural_network/_multilayer_perceptron.py:684: ConvergenceWarning: Stochastic Optimizer: Maximum iterations (1000) reached and the optimization hasn't converged yet.\n",
      "  warnings.warn(\n",
      "/Users/indrajeetmandal/opt/anaconda3/envs/indr/lib/python3.10/site-packages/sklearn/neural_network/_multilayer_perceptron.py:1617: DataConversionWarning: A column-vector y was passed when a 1d array was expected. Please change the shape of y to (n_samples, ), for example using ravel().\n",
      "  y = column_or_1d(y, warn=True)\n",
      "/Users/indrajeetmandal/opt/anaconda3/envs/indr/lib/python3.10/site-packages/sklearn/neural_network/_multilayer_perceptron.py:1617: DataConversionWarning: A column-vector y was passed when a 1d array was expected. Please change the shape of y to (n_samples, ), for example using ravel().\n",
      "  y = column_or_1d(y, warn=True)\n",
      "/Users/indrajeetmandal/opt/anaconda3/envs/indr/lib/python3.10/site-packages/sklearn/neural_network/_multilayer_perceptron.py:1617: DataConversionWarning: A column-vector y was passed when a 1d array was expected. Please change the shape of y to (n_samples, ), for example using ravel().\n",
      "  y = column_or_1d(y, warn=True)\n"
     ]
    },
    {
     "name": "stdout",
     "output_type": "stream",
     "text": [
      "Training has R^2=0.90433, mse=0.23291 and mae=0.40175\n",
      "Test has R^2=0.9224, mse=0.19841 and mae=0.32726\n",
      "50\n",
      "Training has R^2=0.91783, mse=0.20004 and mae=0.35819\n",
      "Test has R^2=0.84568, mse=0.39459 and mae=0.49868\n",
      "51\n",
      "Training has R^2=0.88906, mse=0.27009 and mae=0.40743\n",
      "Test has R^2=0.72101, mse=0.71334 and mae=0.67499\n",
      "52\n"
     ]
    },
    {
     "name": "stderr",
     "output_type": "stream",
     "text": [
      "/Users/indrajeetmandal/opt/anaconda3/envs/indr/lib/python3.10/site-packages/sklearn/neural_network/_multilayer_perceptron.py:684: ConvergenceWarning: Stochastic Optimizer: Maximum iterations (1000) reached and the optimization hasn't converged yet.\n",
      "  warnings.warn(\n",
      "/Users/indrajeetmandal/opt/anaconda3/envs/indr/lib/python3.10/site-packages/sklearn/neural_network/_multilayer_perceptron.py:1617: DataConversionWarning: A column-vector y was passed when a 1d array was expected. Please change the shape of y to (n_samples, ), for example using ravel().\n",
      "  y = column_or_1d(y, warn=True)\n",
      "/Users/indrajeetmandal/opt/anaconda3/envs/indr/lib/python3.10/site-packages/sklearn/neural_network/_multilayer_perceptron.py:684: ConvergenceWarning: Stochastic Optimizer: Maximum iterations (1000) reached and the optimization hasn't converged yet.\n",
      "  warnings.warn(\n",
      "/Users/indrajeetmandal/opt/anaconda3/envs/indr/lib/python3.10/site-packages/sklearn/neural_network/_multilayer_perceptron.py:1617: DataConversionWarning: A column-vector y was passed when a 1d array was expected. Please change the shape of y to (n_samples, ), for example using ravel().\n",
      "  y = column_or_1d(y, warn=True)\n"
     ]
    },
    {
     "name": "stdout",
     "output_type": "stream",
     "text": [
      "Training has R^2=0.85761, mse=0.34666 and mae=0.53134\n",
      "Test has R^2=0.71902, mse=0.71845 and mae=0.60763\n",
      "53\n",
      "Training has R^2=0.89262, mse=0.26142 and mae=0.4183\n",
      "Test has R^2=0.59076, mse=1.04638 and mae=0.74276\n",
      "54\n"
     ]
    },
    {
     "name": "stderr",
     "output_type": "stream",
     "text": [
      "/Users/indrajeetmandal/opt/anaconda3/envs/indr/lib/python3.10/site-packages/sklearn/neural_network/_multilayer_perceptron.py:684: ConvergenceWarning: Stochastic Optimizer: Maximum iterations (1000) reached and the optimization hasn't converged yet.\n",
      "  warnings.warn(\n",
      "/Users/indrajeetmandal/opt/anaconda3/envs/indr/lib/python3.10/site-packages/sklearn/neural_network/_multilayer_perceptron.py:1617: DataConversionWarning: A column-vector y was passed when a 1d array was expected. Please change the shape of y to (n_samples, ), for example using ravel().\n",
      "  y = column_or_1d(y, warn=True)\n",
      "/Users/indrajeetmandal/opt/anaconda3/envs/indr/lib/python3.10/site-packages/sklearn/neural_network/_multilayer_perceptron.py:684: ConvergenceWarning: Stochastic Optimizer: Maximum iterations (1000) reached and the optimization hasn't converged yet.\n",
      "  warnings.warn(\n",
      "/Users/indrajeetmandal/opt/anaconda3/envs/indr/lib/python3.10/site-packages/sklearn/neural_network/_multilayer_perceptron.py:1617: DataConversionWarning: A column-vector y was passed when a 1d array was expected. Please change the shape of y to (n_samples, ), for example using ravel().\n",
      "  y = column_or_1d(y, warn=True)\n"
     ]
    },
    {
     "name": "stdout",
     "output_type": "stream",
     "text": [
      "Training has R^2=0.85538, mse=0.35209 and mae=0.50842\n",
      "Test has R^2=0.25078, mse=1.91569 and mae=0.7834\n",
      "55\n",
      "Training has R^2=0.84185, mse=0.38502 and mae=0.52606\n",
      "Test has R^2=0.40005, mse=1.53402 and mae=0.93648\n",
      "56\n"
     ]
    },
    {
     "name": "stderr",
     "output_type": "stream",
     "text": [
      "/Users/indrajeetmandal/opt/anaconda3/envs/indr/lib/python3.10/site-packages/sklearn/neural_network/_multilayer_perceptron.py:684: ConvergenceWarning: Stochastic Optimizer: Maximum iterations (1000) reached and the optimization hasn't converged yet.\n",
      "  warnings.warn(\n",
      "/Users/indrajeetmandal/opt/anaconda3/envs/indr/lib/python3.10/site-packages/sklearn/neural_network/_multilayer_perceptron.py:1617: DataConversionWarning: A column-vector y was passed when a 1d array was expected. Please change the shape of y to (n_samples, ), for example using ravel().\n",
      "  y = column_or_1d(y, warn=True)\n",
      "/Users/indrajeetmandal/opt/anaconda3/envs/indr/lib/python3.10/site-packages/sklearn/neural_network/_multilayer_perceptron.py:684: ConvergenceWarning: Stochastic Optimizer: Maximum iterations (1000) reached and the optimization hasn't converged yet.\n",
      "  warnings.warn(\n",
      "/Users/indrajeetmandal/opt/anaconda3/envs/indr/lib/python3.10/site-packages/sklearn/neural_network/_multilayer_perceptron.py:1617: DataConversionWarning: A column-vector y was passed when a 1d array was expected. Please change the shape of y to (n_samples, ), for example using ravel().\n",
      "  y = column_or_1d(y, warn=True)\n"
     ]
    },
    {
     "name": "stdout",
     "output_type": "stream",
     "text": [
      "Training has R^2=0.76497, mse=0.57219 and mae=0.55099\n",
      "Test has R^2=0.08335, mse=2.34379 and mae=1.1412\n",
      "57\n",
      "Training has R^2=0.41202, mse=1.43149 and mae=0.90915\n",
      "Test has R^2=0.30556, mse=1.7756 and mae=1.07187\n",
      "58\n"
     ]
    },
    {
     "name": "stderr",
     "output_type": "stream",
     "text": [
      "/Users/indrajeetmandal/opt/anaconda3/envs/indr/lib/python3.10/site-packages/sklearn/neural_network/_multilayer_perceptron.py:684: ConvergenceWarning: Stochastic Optimizer: Maximum iterations (1000) reached and the optimization hasn't converged yet.\n",
      "  warnings.warn(\n",
      "/Users/indrajeetmandal/opt/anaconda3/envs/indr/lib/python3.10/site-packages/sklearn/neural_network/_multilayer_perceptron.py:1617: DataConversionWarning: A column-vector y was passed when a 1d array was expected. Please change the shape of y to (n_samples, ), for example using ravel().\n",
      "  y = column_or_1d(y, warn=True)\n",
      "/Users/indrajeetmandal/opt/anaconda3/envs/indr/lib/python3.10/site-packages/sklearn/neural_network/_multilayer_perceptron.py:1617: DataConversionWarning: A column-vector y was passed when a 1d array was expected. Please change the shape of y to (n_samples, ), for example using ravel().\n",
      "  y = column_or_1d(y, warn=True)\n"
     ]
    },
    {
     "name": "stdout",
     "output_type": "stream",
     "text": [
      "Training has R^2=0.80555, mse=0.4734 and mae=0.59142\n",
      "Test has R^2=0.84341, mse=0.40038 and mae=0.5184\n",
      "59\n",
      "Training has R^2=0.90812, mse=0.22369 and mae=0.39116\n",
      "Test has R^2=0.75362, mse=0.62997 and mae=0.56083\n",
      "60\n",
      "Training has R^2=0.88193, mse=0.28744 and mae=0.40447\n",
      "Test has R^2=0.62286, mse=0.96432 and mae=0.80967\n",
      "61\n",
      "Training has R^2=0.94745, mse=0.12793 and mae=0.28868\n",
      "Test has R^2=0.9243, mse=0.19356 and mae=0.39842\n",
      "62\n"
     ]
    },
    {
     "name": "stderr",
     "output_type": "stream",
     "text": [
      "/Users/indrajeetmandal/opt/anaconda3/envs/indr/lib/python3.10/site-packages/sklearn/neural_network/_multilayer_perceptron.py:1617: DataConversionWarning: A column-vector y was passed when a 1d array was expected. Please change the shape of y to (n_samples, ), for example using ravel().\n",
      "  y = column_or_1d(y, warn=True)\n",
      "/Users/indrajeetmandal/opt/anaconda3/envs/indr/lib/python3.10/site-packages/sklearn/neural_network/_multilayer_perceptron.py:1617: DataConversionWarning: A column-vector y was passed when a 1d array was expected. Please change the shape of y to (n_samples, ), for example using ravel().\n",
      "  y = column_or_1d(y, warn=True)\n",
      "/Users/indrajeetmandal/opt/anaconda3/envs/indr/lib/python3.10/site-packages/sklearn/neural_network/_multilayer_perceptron.py:684: ConvergenceWarning: Stochastic Optimizer: Maximum iterations (1000) reached and the optimization hasn't converged yet.\n",
      "  warnings.warn(\n",
      "/Users/indrajeetmandal/opt/anaconda3/envs/indr/lib/python3.10/site-packages/sklearn/neural_network/_multilayer_perceptron.py:1617: DataConversionWarning: A column-vector y was passed when a 1d array was expected. Please change the shape of y to (n_samples, ), for example using ravel().\n",
      "  y = column_or_1d(y, warn=True)\n",
      "/Users/indrajeetmandal/opt/anaconda3/envs/indr/lib/python3.10/site-packages/sklearn/neural_network/_multilayer_perceptron.py:1617: DataConversionWarning: A column-vector y was passed when a 1d array was expected. Please change the shape of y to (n_samples, ), for example using ravel().\n",
      "  y = column_or_1d(y, warn=True)\n",
      "/Users/indrajeetmandal/opt/anaconda3/envs/indr/lib/python3.10/site-packages/sklearn/neural_network/_multilayer_perceptron.py:1617: DataConversionWarning: A column-vector y was passed when a 1d array was expected. Please change the shape of y to (n_samples, ), for example using ravel().\n",
      "  y = column_or_1d(y, warn=True)\n"
     ]
    },
    {
     "name": "stdout",
     "output_type": "stream",
     "text": [
      "Training has R^2=0.85115, mse=0.36237 and mae=0.46613\n",
      "Test has R^2=0.3791, mse=1.58758 and mae=0.9402\n",
      "63\n",
      "Training has R^2=0.87395, mse=0.30687 and mae=0.46193\n",
      "Test has R^2=0.68941, mse=0.79415 and mae=0.719\n",
      "64\n",
      "Training has R^2=0.90806, mse=0.22384 and mae=0.36559\n",
      "Test has R^2=0.63063, mse=0.94443 and mae=0.85097\n",
      "65\n"
     ]
    },
    {
     "name": "stderr",
     "output_type": "stream",
     "text": [
      "/Users/indrajeetmandal/opt/anaconda3/envs/indr/lib/python3.10/site-packages/sklearn/neural_network/_multilayer_perceptron.py:684: ConvergenceWarning: Stochastic Optimizer: Maximum iterations (1000) reached and the optimization hasn't converged yet.\n",
      "  warnings.warn(\n",
      "/Users/indrajeetmandal/opt/anaconda3/envs/indr/lib/python3.10/site-packages/sklearn/neural_network/_multilayer_perceptron.py:1617: DataConversionWarning: A column-vector y was passed when a 1d array was expected. Please change the shape of y to (n_samples, ), for example using ravel().\n",
      "  y = column_or_1d(y, warn=True)\n",
      "/Users/indrajeetmandal/opt/anaconda3/envs/indr/lib/python3.10/site-packages/sklearn/neural_network/_multilayer_perceptron.py:684: ConvergenceWarning: Stochastic Optimizer: Maximum iterations (1000) reached and the optimization hasn't converged yet.\n",
      "  warnings.warn(\n",
      "/Users/indrajeetmandal/opt/anaconda3/envs/indr/lib/python3.10/site-packages/sklearn/neural_network/_multilayer_perceptron.py:1617: DataConversionWarning: A column-vector y was passed when a 1d array was expected. Please change the shape of y to (n_samples, ), for example using ravel().\n",
      "  y = column_or_1d(y, warn=True)\n"
     ]
    },
    {
     "name": "stdout",
     "output_type": "stream",
     "text": [
      "Training has R^2=0.76437, mse=0.57367 and mae=0.58959\n",
      "Test has R^2=-0.2172, mse=3.11225 and mae=1.55965\n",
      "66\n",
      "Training has R^2=0.8059, mse=0.47255 and mae=0.59274\n",
      "Test has R^2=0.8513, mse=0.38021 and mae=0.55709\n",
      "67\n"
     ]
    },
    {
     "name": "stderr",
     "output_type": "stream",
     "text": [
      "/Users/indrajeetmandal/opt/anaconda3/envs/indr/lib/python3.10/site-packages/sklearn/neural_network/_multilayer_perceptron.py:684: ConvergenceWarning: Stochastic Optimizer: Maximum iterations (1000) reached and the optimization hasn't converged yet.\n",
      "  warnings.warn(\n",
      "/Users/indrajeetmandal/opt/anaconda3/envs/indr/lib/python3.10/site-packages/sklearn/neural_network/_multilayer_perceptron.py:1617: DataConversionWarning: A column-vector y was passed when a 1d array was expected. Please change the shape of y to (n_samples, ), for example using ravel().\n",
      "  y = column_or_1d(y, warn=True)\n",
      "/Users/indrajeetmandal/opt/anaconda3/envs/indr/lib/python3.10/site-packages/sklearn/neural_network/_multilayer_perceptron.py:684: ConvergenceWarning: Stochastic Optimizer: Maximum iterations (1000) reached and the optimization hasn't converged yet.\n",
      "  warnings.warn(\n",
      "/Users/indrajeetmandal/opt/anaconda3/envs/indr/lib/python3.10/site-packages/sklearn/neural_network/_multilayer_perceptron.py:1617: DataConversionWarning: A column-vector y was passed when a 1d array was expected. Please change the shape of y to (n_samples, ), for example using ravel().\n",
      "  y = column_or_1d(y, warn=True)\n"
     ]
    },
    {
     "name": "stdout",
     "output_type": "stream",
     "text": [
      "Training has R^2=0.53364, mse=1.1354 and mae=0.87489\n",
      "Test has R^2=0.38814, mse=1.56445 and mae=1.15987\n",
      "68\n",
      "Training has R^2=0.70326, mse=0.72244 and mae=0.69623\n",
      "Test has R^2=0.43526, mse=1.44397 and mae=0.98133\n",
      "69\n"
     ]
    },
    {
     "name": "stderr",
     "output_type": "stream",
     "text": [
      "/Users/indrajeetmandal/opt/anaconda3/envs/indr/lib/python3.10/site-packages/sklearn/neural_network/_multilayer_perceptron.py:684: ConvergenceWarning: Stochastic Optimizer: Maximum iterations (1000) reached and the optimization hasn't converged yet.\n",
      "  warnings.warn(\n",
      "/Users/indrajeetmandal/opt/anaconda3/envs/indr/lib/python3.10/site-packages/sklearn/neural_network/_multilayer_perceptron.py:1617: DataConversionWarning: A column-vector y was passed when a 1d array was expected. Please change the shape of y to (n_samples, ), for example using ravel().\n",
      "  y = column_or_1d(y, warn=True)\n",
      "/Users/indrajeetmandal/opt/anaconda3/envs/indr/lib/python3.10/site-packages/sklearn/neural_network/_multilayer_perceptron.py:1617: DataConversionWarning: A column-vector y was passed when a 1d array was expected. Please change the shape of y to (n_samples, ), for example using ravel().\n",
      "  y = column_or_1d(y, warn=True)\n"
     ]
    },
    {
     "name": "stdout",
     "output_type": "stream",
     "text": [
      "Training has R^2=-1.19798, mse=5.35114 and mae=1.74322\n",
      "Test has R^2=-1.67913, mse=6.85025 and mae=2.04153\n",
      "70\n",
      "Training has R^2=0.90578, mse=0.22938 and mae=0.37701\n",
      "Test has R^2=0.41431, mse=1.49756 and mae=0.97078\n",
      "71\n"
     ]
    },
    {
     "name": "stderr",
     "output_type": "stream",
     "text": [
      "/Users/indrajeetmandal/opt/anaconda3/envs/indr/lib/python3.10/site-packages/sklearn/neural_network/_multilayer_perceptron.py:684: ConvergenceWarning: Stochastic Optimizer: Maximum iterations (1000) reached and the optimization hasn't converged yet.\n",
      "  warnings.warn(\n",
      "/Users/indrajeetmandal/opt/anaconda3/envs/indr/lib/python3.10/site-packages/sklearn/neural_network/_multilayer_perceptron.py:1617: DataConversionWarning: A column-vector y was passed when a 1d array was expected. Please change the shape of y to (n_samples, ), for example using ravel().\n",
      "  y = column_or_1d(y, warn=True)\n",
      "/Users/indrajeetmandal/opt/anaconda3/envs/indr/lib/python3.10/site-packages/sklearn/neural_network/_multilayer_perceptron.py:684: ConvergenceWarning: Stochastic Optimizer: Maximum iterations (1000) reached and the optimization hasn't converged yet.\n",
      "  warnings.warn(\n",
      "/Users/indrajeetmandal/opt/anaconda3/envs/indr/lib/python3.10/site-packages/sklearn/neural_network/_multilayer_perceptron.py:1617: DataConversionWarning: A column-vector y was passed when a 1d array was expected. Please change the shape of y to (n_samples, ), for example using ravel().\n",
      "  y = column_or_1d(y, warn=True)\n"
     ]
    },
    {
     "name": "stdout",
     "output_type": "stream",
     "text": [
      "Training has R^2=0.43217, mse=1.38243 and mae=0.95604\n",
      "Test has R^2=0.64474, mse=0.90837 and mae=0.87123\n",
      "72\n",
      "Training has R^2=0.87178, mse=0.31217 and mae=0.48091\n",
      "Test has R^2=0.83326, mse=0.42634 and mae=0.59039\n",
      "73\n",
      "Training has R^2=0.92687, mse=0.17803 and mae=0.34802\n",
      "Test has R^2=0.97367, mse=0.06732 and mae=0.21326\n",
      "74\n",
      "Training has R^2=0.78877, mse=0.51427 and mae=0.59201\n",
      "Test has R^2=0.84562, mse=0.39474 and mae=0.58643\n",
      "75\n"
     ]
    },
    {
     "name": "stderr",
     "output_type": "stream",
     "text": [
      "/Users/indrajeetmandal/opt/anaconda3/envs/indr/lib/python3.10/site-packages/sklearn/neural_network/_multilayer_perceptron.py:1617: DataConversionWarning: A column-vector y was passed when a 1d array was expected. Please change the shape of y to (n_samples, ), for example using ravel().\n",
      "  y = column_or_1d(y, warn=True)\n",
      "/Users/indrajeetmandal/opt/anaconda3/envs/indr/lib/python3.10/site-packages/sklearn/neural_network/_multilayer_perceptron.py:1617: DataConversionWarning: A column-vector y was passed when a 1d array was expected. Please change the shape of y to (n_samples, ), for example using ravel().\n",
      "  y = column_or_1d(y, warn=True)\n"
     ]
    },
    {
     "name": "stdout",
     "output_type": "stream",
     "text": [
      "Training has R^2=0.95229, mse=0.11614 and mae=0.25999\n",
      "Test has R^2=0.88305, mse=0.29902 and mae=0.48369\n",
      "76\n",
      "Training has R^2=0.82164, mse=0.43423 and mae=0.57394\n",
      "Test has R^2=0.73099, mse=0.68782 and mae=0.71986\n",
      "77\n"
     ]
    },
    {
     "name": "stderr",
     "output_type": "stream",
     "text": [
      "/Users/indrajeetmandal/opt/anaconda3/envs/indr/lib/python3.10/site-packages/sklearn/neural_network/_multilayer_perceptron.py:1617: DataConversionWarning: A column-vector y was passed when a 1d array was expected. Please change the shape of y to (n_samples, ), for example using ravel().\n",
      "  y = column_or_1d(y, warn=True)\n",
      "/Users/indrajeetmandal/opt/anaconda3/envs/indr/lib/python3.10/site-packages/sklearn/neural_network/_multilayer_perceptron.py:684: ConvergenceWarning: Stochastic Optimizer: Maximum iterations (1000) reached and the optimization hasn't converged yet.\n",
      "  warnings.warn(\n",
      "/Users/indrajeetmandal/opt/anaconda3/envs/indr/lib/python3.10/site-packages/sklearn/neural_network/_multilayer_perceptron.py:1617: DataConversionWarning: A column-vector y was passed when a 1d array was expected. Please change the shape of y to (n_samples, ), for example using ravel().\n",
      "  y = column_or_1d(y, warn=True)\n",
      "/Users/indrajeetmandal/opt/anaconda3/envs/indr/lib/python3.10/site-packages/sklearn/neural_network/_multilayer_perceptron.py:684: ConvergenceWarning: Stochastic Optimizer: Maximum iterations (1000) reached and the optimization hasn't converged yet.\n",
      "  warnings.warn(\n",
      "/Users/indrajeetmandal/opt/anaconda3/envs/indr/lib/python3.10/site-packages/sklearn/neural_network/_multilayer_perceptron.py:1617: DataConversionWarning: A column-vector y was passed when a 1d array was expected. Please change the shape of y to (n_samples, ), for example using ravel().\n",
      "  y = column_or_1d(y, warn=True)\n",
      "/Users/indrajeetmandal/opt/anaconda3/envs/indr/lib/python3.10/site-packages/sklearn/neural_network/_multilayer_perceptron.py:1617: DataConversionWarning: A column-vector y was passed when a 1d array was expected. Please change the shape of y to (n_samples, ), for example using ravel().\n",
      "  y = column_or_1d(y, warn=True)\n"
     ]
    },
    {
     "name": "stdout",
     "output_type": "stream",
     "text": [
      "Training has R^2=0.88774, mse=0.2733 and mae=0.42809\n",
      "Test has R^2=0.74411, mse=0.65428 and mae=0.64835\n",
      "78\n",
      "Training has R^2=0.88103, mse=0.28963 and mae=0.40655\n",
      "Test has R^2=0.504, mse=1.26822 and mae=0.79711\n",
      "79\n"
     ]
    },
    {
     "name": "stderr",
     "output_type": "stream",
     "text": [
      "/Users/indrajeetmandal/opt/anaconda3/envs/indr/lib/python3.10/site-packages/sklearn/neural_network/_multilayer_perceptron.py:684: ConvergenceWarning: Stochastic Optimizer: Maximum iterations (1000) reached and the optimization hasn't converged yet.\n",
      "  warnings.warn(\n",
      "/Users/indrajeetmandal/opt/anaconda3/envs/indr/lib/python3.10/site-packages/sklearn/neural_network/_multilayer_perceptron.py:1617: DataConversionWarning: A column-vector y was passed when a 1d array was expected. Please change the shape of y to (n_samples, ), for example using ravel().\n",
      "  y = column_or_1d(y, warn=True)\n",
      "/Users/indrajeetmandal/opt/anaconda3/envs/indr/lib/python3.10/site-packages/sklearn/neural_network/_multilayer_perceptron.py:684: ConvergenceWarning: Stochastic Optimizer: Maximum iterations (1000) reached and the optimization hasn't converged yet.\n",
      "  warnings.warn(\n",
      "/Users/indrajeetmandal/opt/anaconda3/envs/indr/lib/python3.10/site-packages/sklearn/neural_network/_multilayer_perceptron.py:1617: DataConversionWarning: A column-vector y was passed when a 1d array was expected. Please change the shape of y to (n_samples, ), for example using ravel().\n",
      "  y = column_or_1d(y, warn=True)\n"
     ]
    },
    {
     "name": "stdout",
     "output_type": "stream",
     "text": [
      "Training has R^2=0.83339, mse=0.40563 and mae=0.4858\n",
      "Test has R^2=0.81458, mse=0.47409 and mae=0.5986\n",
      "80\n",
      "Training has R^2=0.79247, mse=0.50526 and mae=0.58534\n",
      "Test has R^2=0.80972, mse=0.48653 and mae=0.61865\n",
      "81\n",
      "Training has R^2=0.88096, mse=0.28982 and mae=0.44799\n",
      "Test has R^2=0.91636, mse=0.21386 and mae=0.40885\n",
      "82\n",
      "Training has R^2=0.60417, mse=0.96368 and mae=0.76509\n",
      "Test has R^2=0.1193, mse=2.25187 and mae=1.20393\n",
      "83\n"
     ]
    },
    {
     "name": "stderr",
     "output_type": "stream",
     "text": [
      "/Users/indrajeetmandal/opt/anaconda3/envs/indr/lib/python3.10/site-packages/sklearn/neural_network/_multilayer_perceptron.py:1617: DataConversionWarning: A column-vector y was passed when a 1d array was expected. Please change the shape of y to (n_samples, ), for example using ravel().\n",
      "  y = column_or_1d(y, warn=True)\n",
      "/Users/indrajeetmandal/opt/anaconda3/envs/indr/lib/python3.10/site-packages/sklearn/neural_network/_multilayer_perceptron.py:684: ConvergenceWarning: Stochastic Optimizer: Maximum iterations (1000) reached and the optimization hasn't converged yet.\n",
      "  warnings.warn(\n",
      "/Users/indrajeetmandal/opt/anaconda3/envs/indr/lib/python3.10/site-packages/sklearn/neural_network/_multilayer_perceptron.py:1617: DataConversionWarning: A column-vector y was passed when a 1d array was expected. Please change the shape of y to (n_samples, ), for example using ravel().\n",
      "  y = column_or_1d(y, warn=True)\n",
      "/Users/indrajeetmandal/opt/anaconda3/envs/indr/lib/python3.10/site-packages/sklearn/neural_network/_multilayer_perceptron.py:684: ConvergenceWarning: Stochastic Optimizer: Maximum iterations (1000) reached and the optimization hasn't converged yet.\n",
      "  warnings.warn(\n",
      "/Users/indrajeetmandal/opt/anaconda3/envs/indr/lib/python3.10/site-packages/sklearn/neural_network/_multilayer_perceptron.py:1617: DataConversionWarning: A column-vector y was passed when a 1d array was expected. Please change the shape of y to (n_samples, ), for example using ravel().\n",
      "  y = column_or_1d(y, warn=True)\n",
      "/Users/indrajeetmandal/opt/anaconda3/envs/indr/lib/python3.10/site-packages/sklearn/neural_network/_multilayer_perceptron.py:1617: DataConversionWarning: A column-vector y was passed when a 1d array was expected. Please change the shape of y to (n_samples, ), for example using ravel().\n",
      "  y = column_or_1d(y, warn=True)\n"
     ]
    },
    {
     "name": "stdout",
     "output_type": "stream",
     "text": [
      "Training has R^2=0.78092, mse=0.53336 and mae=0.52627\n",
      "Test has R^2=-0.55442, mse=3.9745 and mae=1.38194\n",
      "84\n",
      "Training has R^2=0.94455, mse=0.13499 and mae=0.299\n",
      "Test has R^2=0.8744, mse=0.32116 and mae=0.49959\n",
      "85\n"
     ]
    },
    {
     "name": "stderr",
     "output_type": "stream",
     "text": [
      "/Users/indrajeetmandal/opt/anaconda3/envs/indr/lib/python3.10/site-packages/sklearn/neural_network/_multilayer_perceptron.py:684: ConvergenceWarning: Stochastic Optimizer: Maximum iterations (1000) reached and the optimization hasn't converged yet.\n",
      "  warnings.warn(\n",
      "/Users/indrajeetmandal/opt/anaconda3/envs/indr/lib/python3.10/site-packages/sklearn/neural_network/_multilayer_perceptron.py:1617: DataConversionWarning: A column-vector y was passed when a 1d array was expected. Please change the shape of y to (n_samples, ), for example using ravel().\n",
      "  y = column_or_1d(y, warn=True)\n",
      "/Users/indrajeetmandal/opt/anaconda3/envs/indr/lib/python3.10/site-packages/sklearn/neural_network/_multilayer_perceptron.py:1617: DataConversionWarning: A column-vector y was passed when a 1d array was expected. Please change the shape of y to (n_samples, ), for example using ravel().\n",
      "  y = column_or_1d(y, warn=True)\n"
     ]
    },
    {
     "name": "stdout",
     "output_type": "stream",
     "text": [
      "Training has R^2=0.84115, mse=0.38672 and mae=0.55251\n",
      "Test has R^2=0.86221, mse=0.35231 and mae=0.50205\n",
      "86\n",
      "Training has R^2=0.90804, mse=0.22388 and mae=0.33415\n",
      "Test has R^2=0.84337, mse=0.40047 and mae=0.60116\n",
      "87\n"
     ]
    },
    {
     "name": "stderr",
     "output_type": "stream",
     "text": [
      "/Users/indrajeetmandal/opt/anaconda3/envs/indr/lib/python3.10/site-packages/sklearn/neural_network/_multilayer_perceptron.py:684: ConvergenceWarning: Stochastic Optimizer: Maximum iterations (1000) reached and the optimization hasn't converged yet.\n",
      "  warnings.warn(\n",
      "/Users/indrajeetmandal/opt/anaconda3/envs/indr/lib/python3.10/site-packages/sklearn/neural_network/_multilayer_perceptron.py:1617: DataConversionWarning: A column-vector y was passed when a 1d array was expected. Please change the shape of y to (n_samples, ), for example using ravel().\n",
      "  y = column_or_1d(y, warn=True)\n",
      "/Users/indrajeetmandal/opt/anaconda3/envs/indr/lib/python3.10/site-packages/sklearn/neural_network/_multilayer_perceptron.py:684: ConvergenceWarning: Stochastic Optimizer: Maximum iterations (1000) reached and the optimization hasn't converged yet.\n",
      "  warnings.warn(\n",
      "/Users/indrajeetmandal/opt/anaconda3/envs/indr/lib/python3.10/site-packages/sklearn/neural_network/_multilayer_perceptron.py:1617: DataConversionWarning: A column-vector y was passed when a 1d array was expected. Please change the shape of y to (n_samples, ), for example using ravel().\n",
      "  y = column_or_1d(y, warn=True)\n"
     ]
    },
    {
     "name": "stdout",
     "output_type": "stream",
     "text": [
      "Training has R^2=0.91225, mse=0.21365 and mae=0.33029\n",
      "Test has R^2=-0.08181, mse=2.76607 and mae=1.11263\n",
      "88\n",
      "Training has R^2=0.85146, mse=0.36164 and mae=0.44585\n",
      "Test has R^2=0.63029, mse=0.94531 and mae=0.80709\n",
      "89\n",
      "Training has R^2=0.93468, mse=0.15902 and mae=0.35002\n",
      "Test has R^2=0.93771, mse=0.15926 and mae=0.32766\n",
      "90\n",
      "Training has R^2=0.8726, mse=0.31017 and mae=0.45692\n",
      "Test has R^2=0.61865, mse=0.97508 and mae=0.81252\n",
      "91\n"
     ]
    },
    {
     "name": "stderr",
     "output_type": "stream",
     "text": [
      "/Users/indrajeetmandal/opt/anaconda3/envs/indr/lib/python3.10/site-packages/sklearn/neural_network/_multilayer_perceptron.py:1617: DataConversionWarning: A column-vector y was passed when a 1d array was expected. Please change the shape of y to (n_samples, ), for example using ravel().\n",
      "  y = column_or_1d(y, warn=True)\n",
      "/Users/indrajeetmandal/opt/anaconda3/envs/indr/lib/python3.10/site-packages/sklearn/neural_network/_multilayer_perceptron.py:1617: DataConversionWarning: A column-vector y was passed when a 1d array was expected. Please change the shape of y to (n_samples, ), for example using ravel().\n",
      "  y = column_or_1d(y, warn=True)\n",
      "/Users/indrajeetmandal/opt/anaconda3/envs/indr/lib/python3.10/site-packages/sklearn/neural_network/_multilayer_perceptron.py:684: ConvergenceWarning: Stochastic Optimizer: Maximum iterations (1000) reached and the optimization hasn't converged yet.\n",
      "  warnings.warn(\n",
      "/Users/indrajeetmandal/opt/anaconda3/envs/indr/lib/python3.10/site-packages/sklearn/neural_network/_multilayer_perceptron.py:1617: DataConversionWarning: A column-vector y was passed when a 1d array was expected. Please change the shape of y to (n_samples, ), for example using ravel().\n",
      "  y = column_or_1d(y, warn=True)\n",
      "/Users/indrajeetmandal/opt/anaconda3/envs/indr/lib/python3.10/site-packages/sklearn/neural_network/_multilayer_perceptron.py:1617: DataConversionWarning: A column-vector y was passed when a 1d array was expected. Please change the shape of y to (n_samples, ), for example using ravel().\n",
      "  y = column_or_1d(y, warn=True)\n"
     ]
    },
    {
     "name": "stdout",
     "output_type": "stream",
     "text": [
      "Training has R^2=0.24751, mse=1.832 and mae=1.13889\n",
      "Test has R^2=0.24738, mse=1.92437 and mae=1.1294\n",
      "92\n",
      "Training has R^2=0.92061, mse=0.19329 and mae=0.37097\n",
      "Test has R^2=0.86998, mse=0.33245 and mae=0.55608\n",
      "93\n"
     ]
    },
    {
     "name": "stderr",
     "output_type": "stream",
     "text": [
      "/Users/indrajeetmandal/opt/anaconda3/envs/indr/lib/python3.10/site-packages/sklearn/neural_network/_multilayer_perceptron.py:684: ConvergenceWarning: Stochastic Optimizer: Maximum iterations (1000) reached and the optimization hasn't converged yet.\n",
      "  warnings.warn(\n",
      "/Users/indrajeetmandal/opt/anaconda3/envs/indr/lib/python3.10/site-packages/sklearn/neural_network/_multilayer_perceptron.py:1617: DataConversionWarning: A column-vector y was passed when a 1d array was expected. Please change the shape of y to (n_samples, ), for example using ravel().\n",
      "  y = column_or_1d(y, warn=True)\n",
      "/Users/indrajeetmandal/opt/anaconda3/envs/indr/lib/python3.10/site-packages/sklearn/neural_network/_multilayer_perceptron.py:684: ConvergenceWarning: Stochastic Optimizer: Maximum iterations (1000) reached and the optimization hasn't converged yet.\n",
      "  warnings.warn(\n",
      "/Users/indrajeetmandal/opt/anaconda3/envs/indr/lib/python3.10/site-packages/sklearn/neural_network/_multilayer_perceptron.py:1617: DataConversionWarning: A column-vector y was passed when a 1d array was expected. Please change the shape of y to (n_samples, ), for example using ravel().\n",
      "  y = column_or_1d(y, warn=True)\n"
     ]
    },
    {
     "name": "stdout",
     "output_type": "stream",
     "text": [
      "Training has R^2=0.61413, mse=0.93944 and mae=0.8659\n",
      "Test has R^2=-0.03055, mse=2.63499 and mae=1.2803\n",
      "94\n",
      "Training has R^2=0.57042, mse=1.04586 and mae=0.90595\n",
      "Test has R^2=0.39015, mse=1.55931 and mae=1.07573\n",
      "95\n",
      "Training has R^2=0.91584, mse=0.20491 and mae=0.38912\n",
      "Test has R^2=0.94395, mse=0.14331 and mae=0.31964\n",
      "96\n",
      "Training has R^2=0.26478, mse=1.78995 and mae=1.12438\n",
      "Test has R^2=0.71195, mse=0.7365 and mae=0.65363\n",
      "97\n"
     ]
    },
    {
     "name": "stderr",
     "output_type": "stream",
     "text": [
      "/Users/indrajeetmandal/opt/anaconda3/envs/indr/lib/python3.10/site-packages/sklearn/neural_network/_multilayer_perceptron.py:1617: DataConversionWarning: A column-vector y was passed when a 1d array was expected. Please change the shape of y to (n_samples, ), for example using ravel().\n",
      "  y = column_or_1d(y, warn=True)\n",
      "/Users/indrajeetmandal/opt/anaconda3/envs/indr/lib/python3.10/site-packages/sklearn/neural_network/_multilayer_perceptron.py:684: ConvergenceWarning: Stochastic Optimizer: Maximum iterations (1000) reached and the optimization hasn't converged yet.\n",
      "  warnings.warn(\n",
      "/Users/indrajeetmandal/opt/anaconda3/envs/indr/lib/python3.10/site-packages/sklearn/neural_network/_multilayer_perceptron.py:1617: DataConversionWarning: A column-vector y was passed when a 1d array was expected. Please change the shape of y to (n_samples, ), for example using ravel().\n",
      "  y = column_or_1d(y, warn=True)\n"
     ]
    },
    {
     "name": "stdout",
     "output_type": "stream",
     "text": [
      "Training has R^2=0.87249, mse=0.31044 and mae=0.44419\n",
      "Test has R^2=0.78034, mse=0.56166 and mae=0.56893\n",
      "98\n",
      "Training has R^2=0.44147, mse=1.35979 and mae=0.96093\n",
      "Test has R^2=-0.10512, mse=2.82567 and mae=1.09641\n",
      "99\n"
     ]
    },
    {
     "name": "stderr",
     "output_type": "stream",
     "text": [
      "/Users/indrajeetmandal/opt/anaconda3/envs/indr/lib/python3.10/site-packages/sklearn/neural_network/_multilayer_perceptron.py:1617: DataConversionWarning: A column-vector y was passed when a 1d array was expected. Please change the shape of y to (n_samples, ), for example using ravel().\n",
      "  y = column_or_1d(y, warn=True)\n",
      "/Users/indrajeetmandal/opt/anaconda3/envs/indr/lib/python3.10/site-packages/sklearn/neural_network/_multilayer_perceptron.py:684: ConvergenceWarning: Stochastic Optimizer: Maximum iterations (1000) reached and the optimization hasn't converged yet.\n",
      "  warnings.warn(\n"
     ]
    }
   ],
   "source": [
    "# x_train, x_test, y_train, y_test= splitter(X,Y,randomstate=999)  #randomstate=999\n",
    "for i in range(0,100,1):\n",
    "    model= MLPRegressor(hidden_layer_sizes=(9,), max_iter=1000, alpha = 0.37, random_state=i)\n",
    "    model.fit(x_train,y_train)\n",
    "\n",
    "    # y_pred_train= model.predict(x_train)\n",
    "    # y_pred_test= model.predict(x_test)\n",
    "    get_score('Training',actual=y_train,predicted=model.predict(x_train))\n",
    "    get_score('Test',actual=y_test,predicted=model.predict(x_test))\n",
    "    print(i)\n"
   ]
  },
  {
   "cell_type": "code",
   "execution_count": 38,
   "id": "866ec338-dce7-4f0d-b046-d9d6c74a56e5",
   "metadata": {},
   "outputs": [
    {
     "ename": "NameError",
     "evalue": "name 'tr' is not defined",
     "output_type": "error",
     "traceback": [
      "\u001b[0;31m---------------------------------------------------------------------------\u001b[0m",
      "\u001b[0;31mNameError\u001b[0m                                 Traceback (most recent call last)",
      "Cell \u001b[0;32mIn[38], line 1\u001b[0m\n\u001b[0;32m----> 1\u001b[0m np\u001b[38;5;241m.\u001b[39mmean(\u001b[43mtr\u001b[49m), np\u001b[38;5;241m.\u001b[39mmean(tt)\n",
      "\u001b[0;31mNameError\u001b[0m: name 'tr' is not defined"
     ]
    }
   ],
   "source": [
    "np.mean(tr), np.mean(tt)"
   ]
  },
  {
   "cell_type": "markdown",
   "id": "7c41a2e9",
   "metadata": {},
   "source": [
    "## ANN_cv"
   ]
  },
  {
   "cell_type": "code",
   "execution_count": null,
   "id": "ab3a772f",
   "metadata": {},
   "outputs": [],
   "source": [
    "X_train, X_test, Y_train, Y_test = train_test_split(X, Y, random_state=32)\n",
    "from sklearn.model_selection import GridSearchCV\n",
    "from sklearn.neural_network import MLPRegressor\n",
    "reg_xgb=MLPRegressor()\n",
    "hyperparameter_grid = {\n",
    "'hidden_layer_sizes':[i for i in range(2,10)], \n",
    "'max_iter':[1000], \n",
    "'alpha':[i for i in np.arange(0.1,1,0.1)]    \n",
    "}\n",
    "clf = GridSearchCV(reg_xgb, hyperparameter_grid, cv=5, verbose=0,return_train_score=True,scoring='r2') \n",
    "best_model = clf.fit(X_train, Y_train.values.ravel())\n",
    "print(\"hidden_layer_sizes\", best_model.best_estimator_.get_params()['hidden_layer_sizes'])\n",
    "print(\"max_iter\", best_model.best_estimator_.get_params()['max_iter'])\n",
    "print(\"alpha\", best_model.best_estimator_.get_params()['alpha'])\n",
    "print(\"Best_score\", best_model.best_score_)\n",
    "print(\"Test R2:\",best_model.cv_results_['mean_train_score'][np.argmin(best_model.cv_results_['rank_test_score'])])\n",
    "print(\"Validation R2:\", best_model.best_score_)"
   ]
  },
  {
   "cell_type": "code",
   "execution_count": null,
   "id": "4784dad2",
   "metadata": {},
   "outputs": [],
   "source": []
  },
  {
   "cell_type": "code",
   "execution_count": null,
   "id": "9b430636",
   "metadata": {},
   "outputs": [],
   "source": [
    "X_train, X_test, Y_train, Y_test = train_test_split(X, Y, random_state=32)\n",
    "from sklearn.model_selection import GridSearchCV\n",
    "from sklearn.neural_network import MLPRegressor\n",
    "reg_xgb=MLPRegressor()\n",
    "hyperparameter_grid = {\n",
    "'hidden_layer_sizes':[i for i in range(2,10)], \n",
    "'max_iter':[1000], \n",
    "'alpha':[i for i in np.arange(0.1,1,0.1)]    \n",
    "}\n",
    "clf = GridSearchCV(reg_xgb, hyperparameter_grid, cv=5, verbose=0,return_train_score=True,scoring='neg_mean_squared_error') \n",
    "best_model = clf.fit(X_train, Y_train.values.ravel())\n",
    "print(\"hidden_layer_sizes\", best_model.best_estimator_.get_params()['hidden_layer_sizes'])\n",
    "print(\"max_iter\", best_model.best_estimator_.get_params()['max_iter'])\n",
    "print(\"alpha\", best_model.best_estimator_.get_params()['alpha'])\n",
    "print(\"Best_score\", -best_model.best_score_)\n",
    "print(\"Test MSE:\",-best_model.cv_results_['mean_train_score'][np.argmin(best_model.cv_results_['rank_test_score'])])\n",
    "print(\"Validation MSE:\", -best_model.best_score_)"
   ]
  },
  {
   "cell_type": "markdown",
   "id": "4af8c489",
   "metadata": {},
   "source": [
    "## GPR"
   ]
  },
  {
   "cell_type": "code",
   "execution_count": null,
   "id": "a4dfaa1f",
   "metadata": {},
   "outputs": [],
   "source": [
    "import sklearn.gaussian_process as gp\n",
    "X_train, X_test, y_train, y_test = train_test_split(X, Y, test_size=0.2, random_state=475)\n",
    "scaler= StandardScaler().fit(X_train)\n",
    "x_train= X_train\n",
    "x_test= X_test"
   ]
  },
  {
   "cell_type": "code",
   "execution_count": null,
   "id": "45c65009",
   "metadata": {},
   "outputs": [],
   "source": [
    "kernel =  gp.kernels.ConstantKernel(1.0,(1e-2,1e3))*gp.kernels.RBF(10.0, (1e-3, 1e3))"
   ]
  },
  {
   "cell_type": "code",
   "execution_count": null,
   "id": "338ed1db",
   "metadata": {},
   "outputs": [],
   "source": [
    "model = gp.GaussianProcessRegressor(kernel=kernel, n_restarts_optimizer=10, alpha=0.02, normalize_y=True)\n",
    "model.fit(x_train,y_train)\n",
    "params = model.kernel_.get_params()\n",
    "y_pred, std = model.predict(x_test, return_std=True)"
   ]
  },
  {
   "cell_type": "code",
   "execution_count": null,
   "id": "4ab3eed9",
   "metadata": {},
   "outputs": [],
   "source": [
    "get_score('Training',actual=y_train,predicted=model.predict(x_train))\n",
    "get_score('Test',actual=y_test,predicted=model.predict(x_test))"
   ]
  },
  {
   "cell_type": "markdown",
   "id": "2335e129",
   "metadata": {},
   "source": [
    "## GPR_cv"
   ]
  },
  {
   "cell_type": "code",
   "execution_count": 40,
   "id": "06a3fa23",
   "metadata": {},
   "outputs": [],
   "source": [
    "from sklearn.model_selection import GridSearchCV\n",
    "from sklearn.utils import shuffle\n",
    "import sklearn.gaussian_process as gp\n",
    "from sklearn.metrics import mean_squared_error"
   ]
  },
  {
   "cell_type": "code",
   "execution_count": 41,
   "id": "0a0516d6",
   "metadata": {},
   "outputs": [
    {
     "name": "stdout",
     "output_type": "stream",
     "text": [
      "n_restarts_optimizer: 3\n",
      "kernel: 1**2 * RBF(length_scale=1)\n",
      "alpha: 0.01\n",
      "random_state: 47 \n",
      "\n",
      "Test R2: 0.9954497245336297\n",
      "Validation R2: 0.9561881703524511\n"
     ]
    }
   ],
   "source": [
    "# df_shuffled,df2_shuffled= shuffle(X_train,Y_train,random_state=1659)\n",
    "X_train, X_test, Y_train, Y_test = train_test_split(X, Y, random_state=1659)#550,1659\n",
    "kernel =  gp.kernels.ConstantKernel(1.0,(1e-2,1e3))*gp.kernels.RBF(1.0, (1e-3, 1e3))\n",
    "reg_xgb=gp.GaussianProcessRegressor()\n",
    "hyperparameter_grid = {\n",
    "'kernel':[kernel], \n",
    "'n_restarts_optimizer':[i for i in range(1,10)], \n",
    "'alpha':[0.01], \n",
    "'normalize_y':[True],\n",
    "'random_state':[47]\n",
    "}\n",
    "clf = GridSearchCV(reg_xgb, hyperparameter_grid, cv=5, verbose=0,return_train_score=True,scoring='r2') \n",
    "best_model = clf.fit(X_train, Y_train.values.ravel())\n",
    "print(\"n_restarts_optimizer:\", best_model.best_estimator_.get_params()['n_restarts_optimizer'])\n",
    "print(\"kernel:\", best_model.best_estimator_.get_params()['kernel'])\n",
    "print(\"alpha:\", best_model.best_estimator_.get_params()['alpha'])\n",
    "print(\"random_state:\", best_model.best_estimator_.get_params()['random_state'],\"\\n\")\n",
    "print(\"Test R2:\",best_model.cv_results_['mean_train_score'][np.argmin(best_model.cv_results_['rank_test_score'])])\n",
    "print(\"Validation R2:\", best_model.best_score_)"
   ]
  },
  {
   "cell_type": "code",
   "execution_count": null,
   "id": "c974f042",
   "metadata": {},
   "outputs": [],
   "source": []
  },
  {
   "cell_type": "code",
   "execution_count": null,
   "id": "f16a11e9",
   "metadata": {},
   "outputs": [],
   "source": []
  },
  {
   "cell_type": "code",
   "execution_count": 42,
   "id": "7eb1d920",
   "metadata": {},
   "outputs": [
    {
     "name": "stdout",
     "output_type": "stream",
     "text": [
      "n_restarts_optimizer: 3\n",
      "kernel: 1**2 * RBF(length_scale=1)\n",
      "alpha: 0.01\n",
      "random_state: 47 \n",
      "\n",
      "Test MSE: 0.013054025992892909\n",
      "Validation MSE: 0.11231199623249463\n"
     ]
    }
   ],
   "source": [
    "X_train, X_test, Y_train, Y_test = train_test_split(X, Y, random_state=1659)#550,1659\n",
    "kernel =  gp.kernels.ConstantKernel(1.0,(1e-2,1e3))*gp.kernels.RBF(1.0, (1e-3, 1e3))\n",
    "reg_xgb=gp.GaussianProcessRegressor()\n",
    "hyperparameter_grid = {\n",
    "'kernel':[kernel], \n",
    "'n_restarts_optimizer':[i for i in range(1,10)], \n",
    "'alpha':[0.01], \n",
    "'normalize_y':[True],\n",
    "'random_state':[47]\n",
    "}\n",
    "clf = GridSearchCV(reg_xgb, hyperparameter_grid, cv=5, verbose=0,return_train_score=True,scoring='neg_mean_squared_error') \n",
    "best_model = clf.fit(X_train, Y_train.values.ravel())\n",
    "print(\"n_restarts_optimizer:\", best_model.best_estimator_.get_params()['n_restarts_optimizer'])\n",
    "print(\"kernel:\", best_model.best_estimator_.get_params()['kernel'])\n",
    "print(\"alpha:\", best_model.best_estimator_.get_params()['alpha'])\n",
    "print(\"random_state:\", best_model.best_estimator_.get_params()['random_state'],\"\\n\")\n",
    "print(\"Test MSE:\",-best_model.cv_results_['mean_train_score'][np.argmin(best_model.cv_results_['rank_test_score'])])\n",
    "print(\"Validation MSE:\", -best_model.best_score_)"
   ]
  }
 ],
 "metadata": {
  "kernelspec": {
   "display_name": "Python 3 (ipykernel)",
   "language": "python",
   "name": "python3"
  },
  "language_info": {
   "codemirror_mode": {
    "name": "ipython",
    "version": 3
   },
   "file_extension": ".py",
   "mimetype": "text/x-python",
   "name": "python",
   "nbconvert_exporter": "python",
   "pygments_lexer": "ipython3",
   "version": "3.10.9"
  }
 },
 "nbformat": 4,
 "nbformat_minor": 5
}
