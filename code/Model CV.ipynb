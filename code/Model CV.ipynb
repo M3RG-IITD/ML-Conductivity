{
 "cells": [
  {
   "cell_type": "code",
   "execution_count": 1,
   "id": "66efb4a2",
   "metadata": {},
   "outputs": [],
   "source": [
    "import pandas as pd\n",
    "import numpy as np\n",
    "import matplotlib.pyplot as plt\n",
    "import sklearn\n",
    "from sklearn.model_selection import train_test_split\n",
    "from sklearn.preprocessing import StandardScaler\n",
    "from sklearn.metrics import r2_score, mean_squared_error\n",
    "import random\n",
    "import time\n",
    "random.seed(10)"
   ]
  },
  {
   "cell_type": "code",
   "execution_count": 2,
   "id": "6731ac6d",
   "metadata": {},
   "outputs": [],
   "source": [
    "df=pd.read_excel('ML_Data5.xlsx')"
   ]
  },
  {
   "cell_type": "code",
   "execution_count": 3,
   "id": "a4aacd0b",
   "metadata": {},
   "outputs": [],
   "source": [
    "X=df.iloc[:,2:]\n",
    "Y=df.iloc[:,1:2]"
   ]
  },
  {
   "cell_type": "code",
   "execution_count": 4,
   "id": "d85ff164",
   "metadata": {
    "scrolled": true
   },
   "outputs": [],
   "source": [
    "Y= np.log(Y)"
   ]
  },
  {
   "cell_type": "code",
   "execution_count": 5,
   "id": "92f5216b",
   "metadata": {},
   "outputs": [],
   "source": [
    "from sklearn.metrics import r2_score, mean_absolute_error, mean_squared_error\n",
    "def get_score(base='Training', actual=0,predicted=0):\n",
    "    r2 = r2_score(actual,predicted)\n",
    "    mae = mean_absolute_error(actual,predicted)\n",
    "    mse = mean_squared_error(actual,predicted)\n",
    "    #print(f'{base} has R^2={r2.round(3)}, mse={mse.round(3)} and mae={mae.round(3)}')\n",
    "    return print(f'{base} has R^2={r2.round(5)}, mse={mse.round(5)} and mae={mae.round(5)}')"
   ]
  },
  {
   "cell_type": "markdown",
   "id": "8f84d138",
   "metadata": {},
   "source": [
    "## Random Forest"
   ]
  },
  {
   "cell_type": "code",
   "execution_count": null,
   "id": "eb457902",
   "metadata": {},
   "outputs": [],
   "source": [
    "from sklearn.model_selection import cross_val_score\n",
    "from sklearn.model_selection import GridSearchCV\n",
    "from sklearn.ensemble import RandomForestRegressor"
   ]
  },
  {
   "cell_type": "code",
   "execution_count": null,
   "id": "9fa7ed1e",
   "metadata": {},
   "outputs": [],
   "source": [
    "X_train, X_test, Y_train, Y_test = train_test_split(X, Y, random_state=32)\n",
    "reg_xgb=RandomForestRegressor()\n",
    "hyperparameter_grid = {\n",
    "'n_estimators': [i for i in range(1,20)],\n",
    "'random_state': [i for i in range(20,40)]\n",
    "}\n",
    "clf = GridSearchCV(reg_xgb, hyperparameter_grid, cv=5, verbose=0,return_train_score=True,scoring='r2') \n",
    "best_model = clf.fit(X_train, Y_train.values.ravel())\n",
    "print(\"estimator:\", best_model.best_estimator_.get_params()['n_estimators'])\n",
    "print(\"random_state:\", best_model.best_estimator_.get_params()['random_state'])\n",
    "print(\"Best_score\", best_model.best_score_)\n",
    "print(\"Test R2:\",best_model.cv_results_['mean_train_score'][np.argmin(best_model.cv_results_['rank_test_score'])])\n",
    "print(\"Validation R2:\", best_model.best_score_)"
   ]
  },
  {
   "cell_type": "code",
   "execution_count": null,
   "id": "cf23c8de",
   "metadata": {},
   "outputs": [],
   "source": [
    "X_train, X_test, Y_train, Y_test = train_test_split(X, Y, random_state=32)\n",
    "reg_xgb=RandomForestRegressor()\n",
    "hyperparameter_grid = {\n",
    "'n_estimators': [i for i in range(1,20)],\n",
    "'random_state': [i for i in range(20,40)]\n",
    "}\n",
    "clf = GridSearchCV(reg_xgb, hyperparameter_grid, cv=5, verbose=0,return_train_score=True,scoring='neg_mean_squared_error') \n",
    "best_model = clf.fit(X_train, Y_train.values.ravel())\n",
    "print(\"estimator:\", best_model.best_estimator_.get_params()['n_estimators'])\n",
    "print(\"random_state:\", best_model.best_estimator_.get_params()['random_state'])\n",
    "print(\"Best_score\", -best_model.best_score_)\n",
    "print(\"Test MSE:\",-best_model.cv_results_['mean_train_score'][np.argmin(best_model.cv_results_['rank_test_score'])])\n",
    "print(\"Validation MSE:\", -best_model.best_score_)"
   ]
  },
  {
   "cell_type": "markdown",
   "id": "54e8ebb4",
   "metadata": {},
   "source": [
    "## Xg Boost"
   ]
  },
  {
   "cell_type": "markdown",
   "id": "0c6cf5f3",
   "metadata": {},
   "source": [
    "### XG_Boost_cv"
   ]
  },
  {
   "cell_type": "code",
   "execution_count": null,
   "id": "d14778df",
   "metadata": {},
   "outputs": [],
   "source": [
    "from sklearn.model_selection import cross_val_score\n",
    "from sklearn.model_selection import GridSearchCV\n",
    "from xgboost import XGBRegressor"
   ]
  },
  {
   "cell_type": "code",
   "execution_count": null,
   "id": "ca1e4dcc",
   "metadata": {},
   "outputs": [],
   "source": [
    "X_train, X_test, Y_train, Y_test = train_test_split(X, Y, random_state=32)\n",
    "reg_xgb=XGBRegressor()\n",
    "hyperparameter_grid = {\n",
    "'n_estimators': [i for i in range(25,30)],\n",
    "'max_depth': [4,5],\n",
    "'random_state': [i for i in range(20,35)],\n",
    "'gamma':[0.4,0.5]\n",
    "}\n",
    "clf = GridSearchCV(reg_xgb, hyperparameter_grid, cv=5, verbose=0,return_train_score=True,scoring='r2') \n",
    "best_model = clf.fit(X_train, Y_train.values.ravel())\n",
    "print(\"estimator:\", best_model.best_estimator_.get_params()['n_estimators'])\n",
    "print(\"random_state:\", best_model.best_estimator_.get_params()['max_depth'])\n",
    "print(\"random_state:\", best_model.best_estimator_.get_params()['random_state'])\n",
    "print(\"random_state:\", best_model.best_estimator_.get_params()['gamma'])\n",
    "print(\"Best_score\", best_model.best_score_)\n",
    "print(\"Test R2:\",best_model.cv_results_['mean_train_score'][np.argmin(best_model.cv_results_['rank_test_score'])])\n",
    "print(\"Validation R2:\", best_model.best_score_)"
   ]
  },
  {
   "cell_type": "code",
   "execution_count": null,
   "id": "1d4b4497",
   "metadata": {},
   "outputs": [],
   "source": [
    "X_train, X_test, Y_train, Y_test = train_test_split(X, Y, random_state=32)\n",
    "reg_xgb=XGBRegressor()\n",
    "hyperparameter_grid = {\n",
    "'n_estimators': [i for i in range(25,30)],\n",
    "'max_depth': [4,5],\n",
    "'random_state': [i for i in range(20,35)],\n",
    "'gamma':[0.4,0.5]\n",
    "}\n",
    "clf = GridSearchCV(reg_xgb, hyperparameter_grid, cv=5, verbose=0,return_train_score=True,scoring='neg_mean_squared_error') \n",
    "best_model = clf.fit(X_train, Y_train.values.ravel())\n",
    "print(\"estimator:\", best_model.best_estimator_.get_params()['n_estimators'])\n",
    "print(\"random_state:\", best_model.best_estimator_.get_params()['max_depth'])\n",
    "print(\"random_state:\", best_model.best_estimator_.get_params()['random_state'])\n",
    "print(\"random_state:\", best_model.best_estimator_.get_params()['gamma'])\n",
    "print(\"Best_score\", best_model.best_score_)\n",
    "print(\"Test MSE:\",-best_model.cv_results_['mean_train_score'][np.argmin(best_model.cv_results_['rank_test_score'])])\n",
    "print(\"Validation MSE:\", -best_model.best_score_)"
   ]
  },
  {
   "cell_type": "markdown",
   "id": "159d8b7e",
   "metadata": {},
   "source": [
    "## ELASTIC NET"
   ]
  },
  {
   "cell_type": "markdown",
   "id": "adc183b7",
   "metadata": {},
   "source": [
    "### Elastic NET_CV"
   ]
  },
  {
   "cell_type": "code",
   "execution_count": 6,
   "id": "2b8223fd",
   "metadata": {},
   "outputs": [
    {
     "name": "stdout",
     "output_type": "stream",
     "text": [
      "alpha: 0.21000000000000002\n",
      "Best_score 0.915422574955388\n",
      "Test R2: 0.9686238178411033\n",
      "Validation R2: 0.915422574955388\n",
      "Test R2: 0.9686238178411033\n",
      "Validation R2: 0.915422574955388\n"
     ]
    },
    {
     "name": "stderr",
     "output_type": "stream",
     "text": [
      "/Users/indrajeetmandal/opt/anaconda3/envs/indr/lib/python3.10/site-packages/sklearn/linear_model/_coordinate_descent.py:631: ConvergenceWarning: Objective did not converge. You might want to increase the number of iterations, check the scale of the features or consider increasing regularisation. Duality gap: 1.596e-02, tolerance: 4.958e-03\n",
      "  model = cd_fast.enet_coordinate_descent(\n",
      "/Users/indrajeetmandal/opt/anaconda3/envs/indr/lib/python3.10/site-packages/sklearn/linear_model/_coordinate_descent.py:631: ConvergenceWarning: Objective did not converge. You might want to increase the number of iterations, check the scale of the features or consider increasing regularisation. Duality gap: 1.165e-02, tolerance: 4.038e-03\n",
      "  model = cd_fast.enet_coordinate_descent(\n",
      "/Users/indrajeetmandal/opt/anaconda3/envs/indr/lib/python3.10/site-packages/sklearn/linear_model/_coordinate_descent.py:631: ConvergenceWarning: Objective did not converge. You might want to increase the number of iterations, check the scale of the features or consider increasing regularisation. Duality gap: 1.485e-02, tolerance: 4.325e-03\n",
      "  model = cd_fast.enet_coordinate_descent(\n",
      "/Users/indrajeetmandal/opt/anaconda3/envs/indr/lib/python3.10/site-packages/sklearn/linear_model/_coordinate_descent.py:631: ConvergenceWarning: Objective did not converge. You might want to increase the number of iterations, check the scale of the features or consider increasing regularisation. Duality gap: 1.362e-02, tolerance: 4.197e-03\n",
      "  model = cd_fast.enet_coordinate_descent(\n",
      "/Users/indrajeetmandal/opt/anaconda3/envs/indr/lib/python3.10/site-packages/sklearn/linear_model/_coordinate_descent.py:631: ConvergenceWarning: Objective did not converge. You might want to increase the number of iterations, check the scale of the features or consider increasing regularisation. Duality gap: 1.269e-02, tolerance: 3.608e-03\n",
      "  model = cd_fast.enet_coordinate_descent(\n"
     ]
    }
   ],
   "source": [
    "X_train, X_test, Y_train, Y_test = train_test_split(X, Y, random_state=32)\n",
    "from sklearn.model_selection import GridSearchCV\n",
    "from sklearn.linear_model import ElasticNet\n",
    "reg_xgb=ElasticNet()\n",
    "hyperparameter_grid = {\n",
    "'alpha': [i for i in np.arange(0.01,1,0.1)],\n",
    "'l1_ratio':[0.5],\n",
    "'max_iter':[1000]\n",
    "    \n",
    "}\n",
    "clf = GridSearchCV(reg_xgb, hyperparameter_grid, cv=5, verbose=0,return_train_score=True,scoring='r2') \n",
    "best_model = clf.fit(X_train, Y_train.values.ravel())\n",
    "print(\"alpha:\", best_model.best_estimator_.get_params()['alpha'])\n",
    "print(\"Best_score\", best_model.best_score_)\n",
    "print(\"Test R2:\",best_model.cv_results_['mean_train_score'][np.argmin(best_model.cv_results_['rank_test_score'])])\n",
    "print(\"Validation R2:\", best_model.best_score_)\n",
    "print(\"Test R2:\",best_model.cv_results_['mean_train_score'][np.argmin(best_model.cv_results_['rank_test_score'])])\n",
    "print(\"Validation R2:\", best_model.best_score_)"
   ]
  },
  {
   "cell_type": "code",
   "execution_count": null,
   "id": "d5d9cff3",
   "metadata": {},
   "outputs": [],
   "source": []
  },
  {
   "cell_type": "code",
   "execution_count": 7,
   "id": "0c97493b",
   "metadata": {},
   "outputs": [
    {
     "name": "stdout",
     "output_type": "stream",
     "text": [
      "alpha: 0.31000000000000005\n",
      "Best_score -0.14236951860082342\n",
      "Test R2: -0.08361581767672652\n",
      "Validation MSE: 0.14236951860082342\n",
      "Test MSE: 0.08361581767672652\n",
      "Validation MSE: 0.14236951860082342\n"
     ]
    },
    {
     "name": "stderr",
     "output_type": "stream",
     "text": [
      "/Users/indrajeetmandal/opt/anaconda3/envs/indr/lib/python3.10/site-packages/sklearn/linear_model/_coordinate_descent.py:631: ConvergenceWarning: Objective did not converge. You might want to increase the number of iterations, check the scale of the features or consider increasing regularisation. Duality gap: 1.596e-02, tolerance: 4.958e-03\n",
      "  model = cd_fast.enet_coordinate_descent(\n",
      "/Users/indrajeetmandal/opt/anaconda3/envs/indr/lib/python3.10/site-packages/sklearn/linear_model/_coordinate_descent.py:631: ConvergenceWarning: Objective did not converge. You might want to increase the number of iterations, check the scale of the features or consider increasing regularisation. Duality gap: 1.165e-02, tolerance: 4.038e-03\n",
      "  model = cd_fast.enet_coordinate_descent(\n",
      "/Users/indrajeetmandal/opt/anaconda3/envs/indr/lib/python3.10/site-packages/sklearn/linear_model/_coordinate_descent.py:631: ConvergenceWarning: Objective did not converge. You might want to increase the number of iterations, check the scale of the features or consider increasing regularisation. Duality gap: 1.485e-02, tolerance: 4.325e-03\n",
      "  model = cd_fast.enet_coordinate_descent(\n",
      "/Users/indrajeetmandal/opt/anaconda3/envs/indr/lib/python3.10/site-packages/sklearn/linear_model/_coordinate_descent.py:631: ConvergenceWarning: Objective did not converge. You might want to increase the number of iterations, check the scale of the features or consider increasing regularisation. Duality gap: 1.362e-02, tolerance: 4.197e-03\n",
      "  model = cd_fast.enet_coordinate_descent(\n",
      "/Users/indrajeetmandal/opt/anaconda3/envs/indr/lib/python3.10/site-packages/sklearn/linear_model/_coordinate_descent.py:631: ConvergenceWarning: Objective did not converge. You might want to increase the number of iterations, check the scale of the features or consider increasing regularisation. Duality gap: 1.269e-02, tolerance: 3.608e-03\n",
      "  model = cd_fast.enet_coordinate_descent(\n"
     ]
    }
   ],
   "source": [
    "X_train, X_test, Y_train, Y_test = train_test_split(X, Y, random_state=32)\n",
    "from sklearn.model_selection import GridSearchCV\n",
    "from sklearn.linear_model import ElasticNet\n",
    "reg_xgb=ElasticNet()\n",
    "hyperparameter_grid = {\n",
    "'alpha': [i for i in np.arange(0.01,1,0.1)],\n",
    "'l1_ratio':[0.5],\n",
    "'max_iter':[1000]\n",
    "    \n",
    "}\n",
    "clf = GridSearchCV(reg_xgb, hyperparameter_grid, cv=5, verbose=0,return_train_score=True,scoring='neg_mean_squared_error') \n",
    "best_model = clf.fit(X_train, Y_train.values.ravel())\n",
    "print(\"alpha:\", best_model.best_estimator_.get_params()['alpha'])\n",
    "print(\"Best_score\", best_model.best_score_)\n",
    "print(\"Test R2:\",best_model.cv_results_['mean_train_score'][np.argmin(best_model.cv_results_['rank_test_score'])])\n",
    "print(\"Validation MSE:\", -best_model.best_score_)\n",
    "print(\"Test MSE:\",-best_model.cv_results_['mean_train_score'][np.argmin(best_model.cv_results_['rank_test_score'])])\n",
    "print(\"Validation MSE:\", -best_model.best_score_)"
   ]
  },
  {
   "cell_type": "markdown",
   "id": "56d50982",
   "metadata": {},
   "source": [
    "## LASSO REGRESSION"
   ]
  },
  {
   "cell_type": "markdown",
   "id": "6898098b",
   "metadata": {},
   "source": [
    "## lasso_cv"
   ]
  },
  {
   "cell_type": "code",
   "execution_count": 10,
   "id": "286728c7",
   "metadata": {},
   "outputs": [
    {
     "name": "stdout",
     "output_type": "stream",
     "text": [
      "alpha: 0.11\n",
      "Best_score 0.9162035961588881\n",
      "Test R2: 0.9686103649869203\n",
      "Validation R2: 0.9162035961588881\n",
      "Test R2: 0.9686103649869203\n",
      "Validation R2: 0.9162035961588881\n"
     ]
    },
    {
     "name": "stderr",
     "output_type": "stream",
     "text": [
      "/Users/indrajeetmandal/opt/anaconda3/envs/indr/lib/python3.10/site-packages/sklearn/linear_model/_coordinate_descent.py:631: ConvergenceWarning: Objective did not converge. You might want to increase the number of iterations, check the scale of the features or consider increasing regularisation. Duality gap: 1.861e-02, tolerance: 4.958e-03\n",
      "  model = cd_fast.enet_coordinate_descent(\n",
      "/Users/indrajeetmandal/opt/anaconda3/envs/indr/lib/python3.10/site-packages/sklearn/linear_model/_coordinate_descent.py:631: ConvergenceWarning: Objective did not converge. You might want to increase the number of iterations, check the scale of the features or consider increasing regularisation. Duality gap: 1.263e-02, tolerance: 4.325e-03\n",
      "  model = cd_fast.enet_coordinate_descent(\n",
      "/Users/indrajeetmandal/opt/anaconda3/envs/indr/lib/python3.10/site-packages/sklearn/linear_model/_coordinate_descent.py:631: ConvergenceWarning: Objective did not converge. You might want to increase the number of iterations, check the scale of the features or consider increasing regularisation. Duality gap: 1.147e-02, tolerance: 4.197e-03\n",
      "  model = cd_fast.enet_coordinate_descent(\n"
     ]
    }
   ],
   "source": [
    "X_train, X_test, Y_train, Y_test = train_test_split(X, Y, random_state=32)\n",
    "from sklearn.model_selection import GridSearchCV\n",
    "from sklearn.linear_model import Lasso\n",
    "reg_xgb=Lasso()\n",
    "hyperparameter_grid = {\n",
    "'alpha': [i for i in np.arange(0.01,1,0.1)]\n",
    "    \n",
    "}\n",
    "clf = GridSearchCV(reg_xgb, hyperparameter_grid, cv=5, verbose=0,return_train_score=True,scoring='r2') \n",
    "best_model = clf.fit(X_train, Y_train.values.ravel())\n",
    "print(\"alpha:\", best_model.best_estimator_.get_params()['alpha'])\n",
    "print(\"Best_score\", best_model.best_score_)\n",
    "print(\"Test R2:\",best_model.cv_results_['mean_train_score'][np.argmin(best_model.cv_results_['rank_test_score'])])\n",
    "print(\"Validation R2:\", best_model.best_score_)\n",
    "print(\"Test R2:\",best_model.cv_results_['mean_train_score'][np.argmin(best_model.cv_results_['rank_test_score'])])\n",
    "print(\"Validation R2:\", best_model.best_score_)"
   ]
  },
  {
   "cell_type": "code",
   "execution_count": null,
   "id": "ac8e5b9b",
   "metadata": {},
   "outputs": [],
   "source": []
  },
  {
   "cell_type": "code",
   "execution_count": 11,
   "id": "82557c86",
   "metadata": {},
   "outputs": [
    {
     "name": "stdout",
     "output_type": "stream",
     "text": [
      "alpha: 0.21000000000000002\n",
      "Best_score -0.14113634729371116\n",
      "Test R2: -0.084888678636629\n",
      "Validation MSE: 0.14113634729371116\n",
      "Test MSE: 0.084888678636629\n",
      "Validation MSE: 0.14113634729371116\n"
     ]
    },
    {
     "name": "stderr",
     "output_type": "stream",
     "text": [
      "/Users/indrajeetmandal/opt/anaconda3/envs/indr/lib/python3.10/site-packages/sklearn/linear_model/_coordinate_descent.py:631: ConvergenceWarning: Objective did not converge. You might want to increase the number of iterations, check the scale of the features or consider increasing regularisation. Duality gap: 1.861e-02, tolerance: 4.958e-03\n",
      "  model = cd_fast.enet_coordinate_descent(\n",
      "/Users/indrajeetmandal/opt/anaconda3/envs/indr/lib/python3.10/site-packages/sklearn/linear_model/_coordinate_descent.py:631: ConvergenceWarning: Objective did not converge. You might want to increase the number of iterations, check the scale of the features or consider increasing regularisation. Duality gap: 1.263e-02, tolerance: 4.325e-03\n",
      "  model = cd_fast.enet_coordinate_descent(\n",
      "/Users/indrajeetmandal/opt/anaconda3/envs/indr/lib/python3.10/site-packages/sklearn/linear_model/_coordinate_descent.py:631: ConvergenceWarning: Objective did not converge. You might want to increase the number of iterations, check the scale of the features or consider increasing regularisation. Duality gap: 1.147e-02, tolerance: 4.197e-03\n",
      "  model = cd_fast.enet_coordinate_descent(\n"
     ]
    }
   ],
   "source": [
    "X_train, X_test, Y_train, Y_test = train_test_split(X, Y, random_state=32)\n",
    "from sklearn.model_selection import GridSearchCV\n",
    "from sklearn.linear_model import Lasso\n",
    "reg_xgb=Lasso()\n",
    "hyperparameter_grid = {\n",
    "'alpha': [i for i in np.arange(0.01,1,0.1)]\n",
    "    \n",
    "}\n",
    "clf = GridSearchCV(reg_xgb, hyperparameter_grid, cv=5, verbose=0,return_train_score=True,scoring='neg_mean_squared_error') \n",
    "best_model = clf.fit(X_train, Y_train.values.ravel())\n",
    "print(\"alpha:\", best_model.best_estimator_.get_params()['alpha'])\n",
    "print(\"Best_score\", best_model.best_score_)\n",
    "print(\"Test R2:\",best_model.cv_results_['mean_train_score'][np.argmin(best_model.cv_results_['rank_test_score'])])\n",
    "print(\"Validation MSE:\", -best_model.best_score_)\n",
    "print(\"Test MSE:\",-best_model.cv_results_['mean_train_score'][np.argmin(best_model.cv_results_['rank_test_score'])])\n",
    "print(\"Validation MSE:\", -best_model.best_score_)"
   ]
  },
  {
   "cell_type": "markdown",
   "id": "5ea5b96c",
   "metadata": {},
   "source": [
    "## LINEAR REGRESSION\n"
   ]
  },
  {
   "cell_type": "code",
   "execution_count": 12,
   "id": "16a7a3d2",
   "metadata": {},
   "outputs": [
    {
     "name": "stdout",
     "output_type": "stream",
     "text": [
      "n_jobs: 10\n",
      "Best_score 0.9058748619601132\n",
      "Test R2: 0.9695727232789123\n",
      "Validation R2: 0.9058748619601132\n"
     ]
    }
   ],
   "source": [
    "X_train, X_test, Y_train, Y_test = train_test_split(X, Y, random_state=32)\n",
    "from sklearn.model_selection import GridSearchCV\n",
    "from sklearn.linear_model import LinearRegression\n",
    "reg_xgb=LinearRegression()\n",
    "hyperparameter_grid = {\n",
    "'n_jobs':[10]\n",
    "    \n",
    "}\n",
    "clf = GridSearchCV(reg_xgb, hyperparameter_grid, cv=5, verbose=0,return_train_score=True,scoring='r2') \n",
    "best_model = clf.fit(X_train, Y_train.values.ravel())\n",
    "print(\"n_jobs:\", best_model.best_estimator_.get_params()['n_jobs'])\n",
    "print(\"Best_score\", best_model.best_score_)\n",
    "print(\"Test R2:\",best_model.cv_results_['mean_train_score'][np.argmin(best_model.cv_results_['rank_test_score'])])\n",
    "print(\"Validation R2:\", best_model.best_score_)"
   ]
  },
  {
   "cell_type": "code",
   "execution_count": 13,
   "id": "b0c07ccf",
   "metadata": {},
   "outputs": [
    {
     "name": "stdout",
     "output_type": "stream",
     "text": [
      "n_jobs: 10\n",
      "Best_score 0.17736793097236725\n",
      "Test MSE: 0.0798897613472763\n",
      "Validation MSE: 0.17736793097236725\n"
     ]
    }
   ],
   "source": [
    "X_train, X_test, Y_train, Y_test = train_test_split(X, Y, random_state=32)\n",
    "from sklearn.model_selection import GridSearchCV\n",
    "from sklearn.linear_model import LinearRegression\n",
    "reg_xgb=LinearRegression()\n",
    "hyperparameter_grid = {\n",
    "'n_jobs':[10]\n",
    "    \n",
    "}\n",
    "clf = GridSearchCV(reg_xgb, hyperparameter_grid, cv=5, verbose=0,return_train_score=True,scoring='neg_mean_squared_error') \n",
    "best_model = clf.fit(X_train, Y_train.values.ravel())\n",
    "print(\"n_jobs:\", best_model.best_estimator_.get_params()['n_jobs'])\n",
    "print(\"Best_score\", -best_model.best_score_)\n",
    "print(\"Test MSE:\",-best_model.cv_results_['mean_train_score'][np.argmin(best_model.cv_results_['rank_test_score'])])\n",
    "print(\"Validation MSE:\", -best_model.best_score_)"
   ]
  },
  {
   "cell_type": "markdown",
   "id": "2ff3f9a5",
   "metadata": {},
   "source": [
    "## SVM ANALYSIS\n",
    "\n",
    "\n"
   ]
  },
  {
   "cell_type": "code",
   "execution_count": 14,
   "id": "0b308b51",
   "metadata": {},
   "outputs": [],
   "source": [
    "df=pd.read_excel('ML_Data5.xlsx')\n",
    "X=df.iloc[:,2:]\n",
    "Y=df.iloc[:,1:2]\n",
    "Y= np.log(Y)\n",
    "x_train, x_test, y_train, y_test = train_test_split(X, Y, test_size=0.2, random_state=10)"
   ]
  },
  {
   "cell_type": "code",
   "execution_count": 15,
   "id": "0e7d3ee7",
   "metadata": {
    "scrolled": true
   },
   "outputs": [
    {
     "name": "stdout",
     "output_type": "stream",
     "text": [
      "Training has R^2=0.87471, mse=0.30503 and mae=0.41966\n",
      "Test has R^2=0.82451, mse=0.44872 and mae=0.5724\n"
     ]
    }
   ],
   "source": [
    "from sklearn.svm import SVR\n",
    "model=SVR(kernel='rbf')\n",
    "model.fit(x_train,y_train.values.ravel())\n",
    "get_score('Training',actual=y_train,predicted=model.predict(x_train))\n",
    "\n",
    "get_score('Test',actual=y_test,predicted=model.predict(x_test))"
   ]
  },
  {
   "cell_type": "code",
   "execution_count": 16,
   "id": "c4b17cf2",
   "metadata": {},
   "outputs": [
    {
     "name": "stdout",
     "output_type": "stream",
     "text": [
      "kernel: rbf\n",
      "Best_score 0.8505926189588446\n",
      "Test R2: 0.9479284441760637\n",
      "Validation R2: 0.8505926189588446\n"
     ]
    }
   ],
   "source": [
    "X_train, X_test, Y_train, Y_test = train_test_split(X, Y, random_state=32)\n",
    "from sklearn.model_selection import GridSearchCV\n",
    "from sklearn.svm import SVR\n",
    "kernel='rbf'\n",
    "reg_xgb=SVR()\n",
    "hyperparameter_grid = {\n",
    "'kernel':[kernel]\n",
    "    \n",
    "}\n",
    "clf = GridSearchCV(reg_xgb, hyperparameter_grid, cv=5, verbose=0,return_train_score=True,scoring='r2') \n",
    "best_model = clf.fit(X_train, Y_train.values.ravel())\n",
    "print(\"kernel:\", best_model.best_estimator_.get_params()['kernel'])\n",
    "print(\"Best_score\", best_model.best_score_)\n",
    "print(\"Test R2:\",best_model.cv_results_['mean_train_score'][np.argmin(best_model.cv_results_['rank_test_score'])])\n",
    "print(\"Validation R2:\", best_model.best_score_)"
   ]
  },
  {
   "cell_type": "code",
   "execution_count": null,
   "id": "8887390c",
   "metadata": {},
   "outputs": [],
   "source": []
  },
  {
   "cell_type": "code",
   "execution_count": 17,
   "id": "fd34b4d4",
   "metadata": {},
   "outputs": [
    {
     "name": "stdout",
     "output_type": "stream",
     "text": [
      "kernel: rbf\n",
      "Best_score 0.27524498833151656\n",
      "Test MSE: 0.1364084570980934\n",
      "Validation MSE: 0.27524498833151656\n"
     ]
    }
   ],
   "source": [
    "X_train, X_test, Y_train, Y_test = train_test_split(X, Y, random_state=32)\n",
    "from sklearn.model_selection import GridSearchCV\n",
    "from sklearn.svm import SVR\n",
    "kernel='rbf'\n",
    "reg_xgb=SVR()\n",
    "hyperparameter_grid = {\n",
    "'kernel':[kernel]\n",
    "    \n",
    "}\n",
    "clf = GridSearchCV(reg_xgb, hyperparameter_grid, cv=5, verbose=0,return_train_score=True,scoring='neg_mean_squared_error') \n",
    "best_model = clf.fit(X_train, Y_train.values.ravel())\n",
    "print(\"kernel:\", best_model.best_estimator_.get_params()['kernel'])\n",
    "print(\"Best_score\", -best_model.best_score_)\n",
    "print(\"Test MSE:\",-best_model.cv_results_['mean_train_score'][np.argmin(best_model.cv_results_['rank_test_score'])])\n",
    "print(\"Validation MSE:\", -best_model.best_score_)"
   ]
  },
  {
   "cell_type": "code",
   "execution_count": null,
   "id": "cc75d6d5",
   "metadata": {},
   "outputs": [],
   "source": []
  },
  {
   "cell_type": "code",
   "execution_count": null,
   "id": "bec72df5",
   "metadata": {},
   "outputs": [],
   "source": []
  },
  {
   "cell_type": "markdown",
   "id": "ec064b8d",
   "metadata": {},
   "source": [
    "## ANN REGRESSION"
   ]
  },
  {
   "cell_type": "code",
   "execution_count": null,
   "id": "ab3a772f",
   "metadata": {},
   "outputs": [
    {
     "name": "stderr",
     "output_type": "stream",
     "text": [
      "/Users/indrajeetmandal/opt/anaconda3/envs/indr/lib/python3.10/site-packages/sklearn/neural_network/_multilayer_perceptron.py:684: ConvergenceWarning: Stochastic Optimizer: Maximum iterations (1000) reached and the optimization hasn't converged yet.\n",
      "  warnings.warn(\n",
      "/Users/indrajeetmandal/opt/anaconda3/envs/indr/lib/python3.10/site-packages/sklearn/neural_network/_multilayer_perceptron.py:684: ConvergenceWarning: Stochastic Optimizer: Maximum iterations (1000) reached and the optimization hasn't converged yet.\n",
      "  warnings.warn(\n",
      "/Users/indrajeetmandal/opt/anaconda3/envs/indr/lib/python3.10/site-packages/sklearn/neural_network/_multilayer_perceptron.py:684: ConvergenceWarning: Stochastic Optimizer: Maximum iterations (1000) reached and the optimization hasn't converged yet.\n",
      "  warnings.warn(\n",
      "/Users/indrajeetmandal/opt/anaconda3/envs/indr/lib/python3.10/site-packages/sklearn/neural_network/_multilayer_perceptron.py:684: ConvergenceWarning: Stochastic Optimizer: Maximum iterations (1000) reached and the optimization hasn't converged yet.\n",
      "  warnings.warn(\n",
      "/Users/indrajeetmandal/opt/anaconda3/envs/indr/lib/python3.10/site-packages/sklearn/neural_network/_multilayer_perceptron.py:684: ConvergenceWarning: Stochastic Optimizer: Maximum iterations (1000) reached and the optimization hasn't converged yet.\n",
      "  warnings.warn(\n",
      "/Users/indrajeetmandal/opt/anaconda3/envs/indr/lib/python3.10/site-packages/sklearn/neural_network/_multilayer_perceptron.py:684: ConvergenceWarning: Stochastic Optimizer: Maximum iterations (1000) reached and the optimization hasn't converged yet.\n",
      "  warnings.warn(\n",
      "/Users/indrajeetmandal/opt/anaconda3/envs/indr/lib/python3.10/site-packages/sklearn/neural_network/_multilayer_perceptron.py:684: ConvergenceWarning: Stochastic Optimizer: Maximum iterations (1000) reached and the optimization hasn't converged yet.\n",
      "  warnings.warn(\n",
      "/Users/indrajeetmandal/opt/anaconda3/envs/indr/lib/python3.10/site-packages/sklearn/neural_network/_multilayer_perceptron.py:684: ConvergenceWarning: Stochastic Optimizer: Maximum iterations (1000) reached and the optimization hasn't converged yet.\n",
      "  warnings.warn(\n",
      "/Users/indrajeetmandal/opt/anaconda3/envs/indr/lib/python3.10/site-packages/sklearn/neural_network/_multilayer_perceptron.py:684: ConvergenceWarning: Stochastic Optimizer: Maximum iterations (1000) reached and the optimization hasn't converged yet.\n",
      "  warnings.warn(\n",
      "/Users/indrajeetmandal/opt/anaconda3/envs/indr/lib/python3.10/site-packages/sklearn/neural_network/_multilayer_perceptron.py:684: ConvergenceWarning: Stochastic Optimizer: Maximum iterations (1000) reached and the optimization hasn't converged yet.\n",
      "  warnings.warn(\n",
      "/Users/indrajeetmandal/opt/anaconda3/envs/indr/lib/python3.10/site-packages/sklearn/neural_network/_multilayer_perceptron.py:684: ConvergenceWarning: Stochastic Optimizer: Maximum iterations (1000) reached and the optimization hasn't converged yet.\n",
      "  warnings.warn(\n",
      "/Users/indrajeetmandal/opt/anaconda3/envs/indr/lib/python3.10/site-packages/sklearn/neural_network/_multilayer_perceptron.py:684: ConvergenceWarning: Stochastic Optimizer: Maximum iterations (1000) reached and the optimization hasn't converged yet.\n",
      "  warnings.warn(\n",
      "/Users/indrajeetmandal/opt/anaconda3/envs/indr/lib/python3.10/site-packages/sklearn/neural_network/_multilayer_perceptron.py:684: ConvergenceWarning: Stochastic Optimizer: Maximum iterations (1000) reached and the optimization hasn't converged yet.\n",
      "  warnings.warn(\n",
      "/Users/indrajeetmandal/opt/anaconda3/envs/indr/lib/python3.10/site-packages/sklearn/neural_network/_multilayer_perceptron.py:684: ConvergenceWarning: Stochastic Optimizer: Maximum iterations (1000) reached and the optimization hasn't converged yet.\n",
      "  warnings.warn(\n",
      "/Users/indrajeetmandal/opt/anaconda3/envs/indr/lib/python3.10/site-packages/sklearn/neural_network/_multilayer_perceptron.py:684: ConvergenceWarning: Stochastic Optimizer: Maximum iterations (1000) reached and the optimization hasn't converged yet.\n",
      "  warnings.warn(\n",
      "/Users/indrajeetmandal/opt/anaconda3/envs/indr/lib/python3.10/site-packages/sklearn/neural_network/_multilayer_perceptron.py:684: ConvergenceWarning: Stochastic Optimizer: Maximum iterations (1000) reached and the optimization hasn't converged yet.\n",
      "  warnings.warn(\n",
      "/Users/indrajeetmandal/opt/anaconda3/envs/indr/lib/python3.10/site-packages/sklearn/neural_network/_multilayer_perceptron.py:684: ConvergenceWarning: Stochastic Optimizer: Maximum iterations (1000) reached and the optimization hasn't converged yet.\n",
      "  warnings.warn(\n",
      "/Users/indrajeetmandal/opt/anaconda3/envs/indr/lib/python3.10/site-packages/sklearn/neural_network/_multilayer_perceptron.py:684: ConvergenceWarning: Stochastic Optimizer: Maximum iterations (1000) reached and the optimization hasn't converged yet.\n",
      "  warnings.warn(\n",
      "/Users/indrajeetmandal/opt/anaconda3/envs/indr/lib/python3.10/site-packages/sklearn/neural_network/_multilayer_perceptron.py:684: ConvergenceWarning: Stochastic Optimizer: Maximum iterations (1000) reached and the optimization hasn't converged yet.\n",
      "  warnings.warn(\n",
      "/Users/indrajeetmandal/opt/anaconda3/envs/indr/lib/python3.10/site-packages/sklearn/neural_network/_multilayer_perceptron.py:684: ConvergenceWarning: Stochastic Optimizer: Maximum iterations (1000) reached and the optimization hasn't converged yet.\n",
      "  warnings.warn(\n",
      "/Users/indrajeetmandal/opt/anaconda3/envs/indr/lib/python3.10/site-packages/sklearn/neural_network/_multilayer_perceptron.py:684: ConvergenceWarning: Stochastic Optimizer: Maximum iterations (1000) reached and the optimization hasn't converged yet.\n",
      "  warnings.warn(\n",
      "/Users/indrajeetmandal/opt/anaconda3/envs/indr/lib/python3.10/site-packages/sklearn/neural_network/_multilayer_perceptron.py:684: ConvergenceWarning: Stochastic Optimizer: Maximum iterations (1000) reached and the optimization hasn't converged yet.\n",
      "  warnings.warn(\n",
      "/Users/indrajeetmandal/opt/anaconda3/envs/indr/lib/python3.10/site-packages/sklearn/neural_network/_multilayer_perceptron.py:684: ConvergenceWarning: Stochastic Optimizer: Maximum iterations (1000) reached and the optimization hasn't converged yet.\n",
      "  warnings.warn(\n",
      "/Users/indrajeetmandal/opt/anaconda3/envs/indr/lib/python3.10/site-packages/sklearn/neural_network/_multilayer_perceptron.py:684: ConvergenceWarning: Stochastic Optimizer: Maximum iterations (1000) reached and the optimization hasn't converged yet.\n",
      "  warnings.warn(\n",
      "/Users/indrajeetmandal/opt/anaconda3/envs/indr/lib/python3.10/site-packages/sklearn/neural_network/_multilayer_perceptron.py:684: ConvergenceWarning: Stochastic Optimizer: Maximum iterations (1000) reached and the optimization hasn't converged yet.\n",
      "  warnings.warn(\n",
      "/Users/indrajeetmandal/opt/anaconda3/envs/indr/lib/python3.10/site-packages/sklearn/neural_network/_multilayer_perceptron.py:684: ConvergenceWarning: Stochastic Optimizer: Maximum iterations (1000) reached and the optimization hasn't converged yet.\n",
      "  warnings.warn(\n",
      "/Users/indrajeetmandal/opt/anaconda3/envs/indr/lib/python3.10/site-packages/sklearn/neural_network/_multilayer_perceptron.py:684: ConvergenceWarning: Stochastic Optimizer: Maximum iterations (1000) reached and the optimization hasn't converged yet.\n",
      "  warnings.warn(\n",
      "/Users/indrajeetmandal/opt/anaconda3/envs/indr/lib/python3.10/site-packages/sklearn/neural_network/_multilayer_perceptron.py:684: ConvergenceWarning: Stochastic Optimizer: Maximum iterations (1000) reached and the optimization hasn't converged yet.\n",
      "  warnings.warn(\n",
      "/Users/indrajeetmandal/opt/anaconda3/envs/indr/lib/python3.10/site-packages/sklearn/neural_network/_multilayer_perceptron.py:684: ConvergenceWarning: Stochastic Optimizer: Maximum iterations (1000) reached and the optimization hasn't converged yet.\n",
      "  warnings.warn(\n",
      "/Users/indrajeetmandal/opt/anaconda3/envs/indr/lib/python3.10/site-packages/sklearn/neural_network/_multilayer_perceptron.py:684: ConvergenceWarning: Stochastic Optimizer: Maximum iterations (1000) reached and the optimization hasn't converged yet.\n",
      "  warnings.warn(\n",
      "/Users/indrajeetmandal/opt/anaconda3/envs/indr/lib/python3.10/site-packages/sklearn/neural_network/_multilayer_perceptron.py:684: ConvergenceWarning: Stochastic Optimizer: Maximum iterations (1000) reached and the optimization hasn't converged yet.\n",
      "  warnings.warn(\n",
      "/Users/indrajeetmandal/opt/anaconda3/envs/indr/lib/python3.10/site-packages/sklearn/neural_network/_multilayer_perceptron.py:684: ConvergenceWarning: Stochastic Optimizer: Maximum iterations (1000) reached and the optimization hasn't converged yet.\n",
      "  warnings.warn(\n"
     ]
    },
    {
     "name": "stderr",
     "output_type": "stream",
     "text": [
      "/Users/indrajeetmandal/opt/anaconda3/envs/indr/lib/python3.10/site-packages/sklearn/neural_network/_multilayer_perceptron.py:684: ConvergenceWarning: Stochastic Optimizer: Maximum iterations (1000) reached and the optimization hasn't converged yet.\n",
      "  warnings.warn(\n",
      "/Users/indrajeetmandal/opt/anaconda3/envs/indr/lib/python3.10/site-packages/sklearn/neural_network/_multilayer_perceptron.py:684: ConvergenceWarning: Stochastic Optimizer: Maximum iterations (1000) reached and the optimization hasn't converged yet.\n",
      "  warnings.warn(\n",
      "/Users/indrajeetmandal/opt/anaconda3/envs/indr/lib/python3.10/site-packages/sklearn/neural_network/_multilayer_perceptron.py:684: ConvergenceWarning: Stochastic Optimizer: Maximum iterations (1000) reached and the optimization hasn't converged yet.\n",
      "  warnings.warn(\n",
      "/Users/indrajeetmandal/opt/anaconda3/envs/indr/lib/python3.10/site-packages/sklearn/neural_network/_multilayer_perceptron.py:684: ConvergenceWarning: Stochastic Optimizer: Maximum iterations (1000) reached and the optimization hasn't converged yet.\n",
      "  warnings.warn(\n",
      "/Users/indrajeetmandal/opt/anaconda3/envs/indr/lib/python3.10/site-packages/sklearn/neural_network/_multilayer_perceptron.py:684: ConvergenceWarning: Stochastic Optimizer: Maximum iterations (1000) reached and the optimization hasn't converged yet.\n",
      "  warnings.warn(\n",
      "/Users/indrajeetmandal/opt/anaconda3/envs/indr/lib/python3.10/site-packages/sklearn/neural_network/_multilayer_perceptron.py:684: ConvergenceWarning: Stochastic Optimizer: Maximum iterations (1000) reached and the optimization hasn't converged yet.\n",
      "  warnings.warn(\n",
      "/Users/indrajeetmandal/opt/anaconda3/envs/indr/lib/python3.10/site-packages/sklearn/neural_network/_multilayer_perceptron.py:684: ConvergenceWarning: Stochastic Optimizer: Maximum iterations (1000) reached and the optimization hasn't converged yet.\n",
      "  warnings.warn(\n",
      "/Users/indrajeetmandal/opt/anaconda3/envs/indr/lib/python3.10/site-packages/sklearn/neural_network/_multilayer_perceptron.py:684: ConvergenceWarning: Stochastic Optimizer: Maximum iterations (1000) reached and the optimization hasn't converged yet.\n",
      "  warnings.warn(\n",
      "/Users/indrajeetmandal/opt/anaconda3/envs/indr/lib/python3.10/site-packages/sklearn/neural_network/_multilayer_perceptron.py:684: ConvergenceWarning: Stochastic Optimizer: Maximum iterations (1000) reached and the optimization hasn't converged yet.\n",
      "  warnings.warn(\n",
      "/Users/indrajeetmandal/opt/anaconda3/envs/indr/lib/python3.10/site-packages/sklearn/neural_network/_multilayer_perceptron.py:684: ConvergenceWarning: Stochastic Optimizer: Maximum iterations (1000) reached and the optimization hasn't converged yet.\n",
      "  warnings.warn(\n",
      "/Users/indrajeetmandal/opt/anaconda3/envs/indr/lib/python3.10/site-packages/sklearn/neural_network/_multilayer_perceptron.py:684: ConvergenceWarning: Stochastic Optimizer: Maximum iterations (1000) reached and the optimization hasn't converged yet.\n",
      "  warnings.warn(\n",
      "/Users/indrajeetmandal/opt/anaconda3/envs/indr/lib/python3.10/site-packages/sklearn/neural_network/_multilayer_perceptron.py:684: ConvergenceWarning: Stochastic Optimizer: Maximum iterations (1000) reached and the optimization hasn't converged yet.\n",
      "  warnings.warn(\n",
      "/Users/indrajeetmandal/opt/anaconda3/envs/indr/lib/python3.10/site-packages/sklearn/neural_network/_multilayer_perceptron.py:684: ConvergenceWarning: Stochastic Optimizer: Maximum iterations (1000) reached and the optimization hasn't converged yet.\n",
      "  warnings.warn(\n",
      "/Users/indrajeetmandal/opt/anaconda3/envs/indr/lib/python3.10/site-packages/sklearn/neural_network/_multilayer_perceptron.py:684: ConvergenceWarning: Stochastic Optimizer: Maximum iterations (1000) reached and the optimization hasn't converged yet.\n",
      "  warnings.warn(\n",
      "/Users/indrajeetmandal/opt/anaconda3/envs/indr/lib/python3.10/site-packages/sklearn/neural_network/_multilayer_perceptron.py:684: ConvergenceWarning: Stochastic Optimizer: Maximum iterations (1000) reached and the optimization hasn't converged yet.\n",
      "  warnings.warn(\n",
      "/Users/indrajeetmandal/opt/anaconda3/envs/indr/lib/python3.10/site-packages/sklearn/neural_network/_multilayer_perceptron.py:684: ConvergenceWarning: Stochastic Optimizer: Maximum iterations (1000) reached and the optimization hasn't converged yet.\n",
      "  warnings.warn(\n",
      "/Users/indrajeetmandal/opt/anaconda3/envs/indr/lib/python3.10/site-packages/sklearn/neural_network/_multilayer_perceptron.py:684: ConvergenceWarning: Stochastic Optimizer: Maximum iterations (1000) reached and the optimization hasn't converged yet.\n",
      "  warnings.warn(\n",
      "/Users/indrajeetmandal/opt/anaconda3/envs/indr/lib/python3.10/site-packages/sklearn/neural_network/_multilayer_perceptron.py:684: ConvergenceWarning: Stochastic Optimizer: Maximum iterations (1000) reached and the optimization hasn't converged yet.\n",
      "  warnings.warn(\n",
      "/Users/indrajeetmandal/opt/anaconda3/envs/indr/lib/python3.10/site-packages/sklearn/neural_network/_multilayer_perceptron.py:684: ConvergenceWarning: Stochastic Optimizer: Maximum iterations (1000) reached and the optimization hasn't converged yet.\n",
      "  warnings.warn(\n",
      "/Users/indrajeetmandal/opt/anaconda3/envs/indr/lib/python3.10/site-packages/sklearn/neural_network/_multilayer_perceptron.py:684: ConvergenceWarning: Stochastic Optimizer: Maximum iterations (1000) reached and the optimization hasn't converged yet.\n",
      "  warnings.warn(\n",
      "/Users/indrajeetmandal/opt/anaconda3/envs/indr/lib/python3.10/site-packages/sklearn/neural_network/_multilayer_perceptron.py:684: ConvergenceWarning: Stochastic Optimizer: Maximum iterations (1000) reached and the optimization hasn't converged yet.\n",
      "  warnings.warn(\n",
      "/Users/indrajeetmandal/opt/anaconda3/envs/indr/lib/python3.10/site-packages/sklearn/neural_network/_multilayer_perceptron.py:684: ConvergenceWarning: Stochastic Optimizer: Maximum iterations (1000) reached and the optimization hasn't converged yet.\n",
      "  warnings.warn(\n",
      "/Users/indrajeetmandal/opt/anaconda3/envs/indr/lib/python3.10/site-packages/sklearn/neural_network/_multilayer_perceptron.py:684: ConvergenceWarning: Stochastic Optimizer: Maximum iterations (1000) reached and the optimization hasn't converged yet.\n",
      "  warnings.warn(\n",
      "/Users/indrajeetmandal/opt/anaconda3/envs/indr/lib/python3.10/site-packages/sklearn/neural_network/_multilayer_perceptron.py:684: ConvergenceWarning: Stochastic Optimizer: Maximum iterations (1000) reached and the optimization hasn't converged yet.\n",
      "  warnings.warn(\n",
      "/Users/indrajeetmandal/opt/anaconda3/envs/indr/lib/python3.10/site-packages/sklearn/neural_network/_multilayer_perceptron.py:684: ConvergenceWarning: Stochastic Optimizer: Maximum iterations (1000) reached and the optimization hasn't converged yet.\n",
      "  warnings.warn(\n",
      "/Users/indrajeetmandal/opt/anaconda3/envs/indr/lib/python3.10/site-packages/sklearn/neural_network/_multilayer_perceptron.py:684: ConvergenceWarning: Stochastic Optimizer: Maximum iterations (1000) reached and the optimization hasn't converged yet.\n",
      "  warnings.warn(\n",
      "/Users/indrajeetmandal/opt/anaconda3/envs/indr/lib/python3.10/site-packages/sklearn/neural_network/_multilayer_perceptron.py:684: ConvergenceWarning: Stochastic Optimizer: Maximum iterations (1000) reached and the optimization hasn't converged yet.\n",
      "  warnings.warn(\n",
      "/Users/indrajeetmandal/opt/anaconda3/envs/indr/lib/python3.10/site-packages/sklearn/neural_network/_multilayer_perceptron.py:684: ConvergenceWarning: Stochastic Optimizer: Maximum iterations (1000) reached and the optimization hasn't converged yet.\n",
      "  warnings.warn(\n",
      "/Users/indrajeetmandal/opt/anaconda3/envs/indr/lib/python3.10/site-packages/sklearn/neural_network/_multilayer_perceptron.py:684: ConvergenceWarning: Stochastic Optimizer: Maximum iterations (1000) reached and the optimization hasn't converged yet.\n",
      "  warnings.warn(\n",
      "/Users/indrajeetmandal/opt/anaconda3/envs/indr/lib/python3.10/site-packages/sklearn/neural_network/_multilayer_perceptron.py:684: ConvergenceWarning: Stochastic Optimizer: Maximum iterations (1000) reached and the optimization hasn't converged yet.\n",
      "  warnings.warn(\n",
      "/Users/indrajeetmandal/opt/anaconda3/envs/indr/lib/python3.10/site-packages/sklearn/neural_network/_multilayer_perceptron.py:684: ConvergenceWarning: Stochastic Optimizer: Maximum iterations (1000) reached and the optimization hasn't converged yet.\n",
      "  warnings.warn(\n",
      "/Users/indrajeetmandal/opt/anaconda3/envs/indr/lib/python3.10/site-packages/sklearn/neural_network/_multilayer_perceptron.py:684: ConvergenceWarning: Stochastic Optimizer: Maximum iterations (1000) reached and the optimization hasn't converged yet.\n",
      "  warnings.warn(\n"
     ]
    },
    {
     "name": "stderr",
     "output_type": "stream",
     "text": [
      "/Users/indrajeetmandal/opt/anaconda3/envs/indr/lib/python3.10/site-packages/sklearn/neural_network/_multilayer_perceptron.py:684: ConvergenceWarning: Stochastic Optimizer: Maximum iterations (1000) reached and the optimization hasn't converged yet.\n",
      "  warnings.warn(\n",
      "/Users/indrajeetmandal/opt/anaconda3/envs/indr/lib/python3.10/site-packages/sklearn/neural_network/_multilayer_perceptron.py:684: ConvergenceWarning: Stochastic Optimizer: Maximum iterations (1000) reached and the optimization hasn't converged yet.\n",
      "  warnings.warn(\n",
      "/Users/indrajeetmandal/opt/anaconda3/envs/indr/lib/python3.10/site-packages/sklearn/neural_network/_multilayer_perceptron.py:684: ConvergenceWarning: Stochastic Optimizer: Maximum iterations (1000) reached and the optimization hasn't converged yet.\n",
      "  warnings.warn(\n",
      "/Users/indrajeetmandal/opt/anaconda3/envs/indr/lib/python3.10/site-packages/sklearn/neural_network/_multilayer_perceptron.py:684: ConvergenceWarning: Stochastic Optimizer: Maximum iterations (1000) reached and the optimization hasn't converged yet.\n",
      "  warnings.warn(\n",
      "/Users/indrajeetmandal/opt/anaconda3/envs/indr/lib/python3.10/site-packages/sklearn/neural_network/_multilayer_perceptron.py:684: ConvergenceWarning: Stochastic Optimizer: Maximum iterations (1000) reached and the optimization hasn't converged yet.\n",
      "  warnings.warn(\n",
      "/Users/indrajeetmandal/opt/anaconda3/envs/indr/lib/python3.10/site-packages/sklearn/neural_network/_multilayer_perceptron.py:684: ConvergenceWarning: Stochastic Optimizer: Maximum iterations (1000) reached and the optimization hasn't converged yet.\n",
      "  warnings.warn(\n",
      "/Users/indrajeetmandal/opt/anaconda3/envs/indr/lib/python3.10/site-packages/sklearn/neural_network/_multilayer_perceptron.py:684: ConvergenceWarning: Stochastic Optimizer: Maximum iterations (1000) reached and the optimization hasn't converged yet.\n",
      "  warnings.warn(\n",
      "/Users/indrajeetmandal/opt/anaconda3/envs/indr/lib/python3.10/site-packages/sklearn/neural_network/_multilayer_perceptron.py:684: ConvergenceWarning: Stochastic Optimizer: Maximum iterations (1000) reached and the optimization hasn't converged yet.\n",
      "  warnings.warn(\n",
      "/Users/indrajeetmandal/opt/anaconda3/envs/indr/lib/python3.10/site-packages/sklearn/neural_network/_multilayer_perceptron.py:684: ConvergenceWarning: Stochastic Optimizer: Maximum iterations (1000) reached and the optimization hasn't converged yet.\n",
      "  warnings.warn(\n",
      "/Users/indrajeetmandal/opt/anaconda3/envs/indr/lib/python3.10/site-packages/sklearn/neural_network/_multilayer_perceptron.py:684: ConvergenceWarning: Stochastic Optimizer: Maximum iterations (1000) reached and the optimization hasn't converged yet.\n",
      "  warnings.warn(\n",
      "/Users/indrajeetmandal/opt/anaconda3/envs/indr/lib/python3.10/site-packages/sklearn/neural_network/_multilayer_perceptron.py:684: ConvergenceWarning: Stochastic Optimizer: Maximum iterations (1000) reached and the optimization hasn't converged yet.\n",
      "  warnings.warn(\n",
      "/Users/indrajeetmandal/opt/anaconda3/envs/indr/lib/python3.10/site-packages/sklearn/neural_network/_multilayer_perceptron.py:684: ConvergenceWarning: Stochastic Optimizer: Maximum iterations (1000) reached and the optimization hasn't converged yet.\n",
      "  warnings.warn(\n",
      "/Users/indrajeetmandal/opt/anaconda3/envs/indr/lib/python3.10/site-packages/sklearn/neural_network/_multilayer_perceptron.py:684: ConvergenceWarning: Stochastic Optimizer: Maximum iterations (1000) reached and the optimization hasn't converged yet.\n",
      "  warnings.warn(\n",
      "/Users/indrajeetmandal/opt/anaconda3/envs/indr/lib/python3.10/site-packages/sklearn/neural_network/_multilayer_perceptron.py:684: ConvergenceWarning: Stochastic Optimizer: Maximum iterations (1000) reached and the optimization hasn't converged yet.\n",
      "  warnings.warn(\n"
     ]
    }
   ],
   "source": [
    "X_train, X_test, Y_train, Y_test = train_test_split(X, Y, random_state=32)\n",
    "from sklearn.model_selection import GridSearchCV\n",
    "from sklearn.neural_network import MLPRegressor\n",
    "reg_xgb=MLPRegressor()\n",
    "hyperparameter_grid = {\n",
    "'hidden_layer_sizes':[i for i in range(2,10)], \n",
    "'max_iter':[1000], \n",
    "'alpha':[i for i in np.arange(0.1,1,0.1)]    \n",
    "}\n",
    "clf = GridSearchCV(reg_xgb, hyperparameter_grid, cv=5, verbose=0,return_train_score=True,scoring='r2') \n",
    "best_model = clf.fit(X_train, Y_train.values.ravel())\n",
    "print(\"hidden_layer_sizes\", best_model.best_estimator_.get_params()['hidden_layer_sizes'])\n",
    "print(\"max_iter\", best_model.best_estimator_.get_params()['max_iter'])\n",
    "print(\"alpha\", best_model.best_estimator_.get_params()['alpha'])\n",
    "print(\"Best_score\", best_model.best_score_)\n",
    "print(\"Test R2:\",best_model.cv_results_['mean_train_score'][np.argmin(best_model.cv_results_['rank_test_score'])])\n",
    "print(\"Validation R2:\", best_model.best_score_)"
   ]
  },
  {
   "cell_type": "code",
   "execution_count": null,
   "id": "4784dad2",
   "metadata": {},
   "outputs": [],
   "source": []
  },
  {
   "cell_type": "code",
   "execution_count": null,
   "id": "9b430636",
   "metadata": {},
   "outputs": [],
   "source": [
    "X_train, X_test, Y_train, Y_test = train_test_split(X, Y, random_state=32)\n",
    "from sklearn.model_selection import GridSearchCV\n",
    "from sklearn.neural_network import MLPRegressor\n",
    "reg_xgb=MLPRegressor()\n",
    "hyperparameter_grid = {\n",
    "'hidden_layer_sizes':[i for i in range(2,10)], \n",
    "'max_iter':[1000], \n",
    "'alpha':[i for i in np.arange(0.1,1,0.1)]    \n",
    "}\n",
    "clf = GridSearchCV(reg_xgb, hyperparameter_grid, cv=5, verbose=0,return_train_score=True,scoring='neg_mean_squared_error') \n",
    "best_model = clf.fit(X_train, Y_train.values.ravel())\n",
    "print(\"hidden_layer_sizes\", best_model.best_estimator_.get_params()['hidden_layer_sizes'])\n",
    "print(\"max_iter\", best_model.best_estimator_.get_params()['max_iter'])\n",
    "print(\"alpha\", best_model.best_estimator_.get_params()['alpha'])\n",
    "print(\"Best_score\", -best_model.best_score_)\n",
    "print(\"Test MSE:\",-best_model.cv_results_['mean_train_score'][np.argmin(best_model.cv_results_['rank_test_score'])])\n",
    "print(\"Validation MSE:\", -best_model.best_score_)"
   ]
  },
  {
   "cell_type": "markdown",
   "id": "4af8c489",
   "metadata": {},
   "source": [
    "## GPR"
   ]
  },
  {
   "cell_type": "code",
   "execution_count": null,
   "id": "a4dfaa1f",
   "metadata": {},
   "outputs": [],
   "source": [
    "import sklearn.gaussian_process as gp\n",
    "X_train, X_test, y_train, y_test = train_test_split(X, Y, test_size=0.2, random_state=475)\n",
    "scaler= StandardScaler().fit(X_train)\n",
    "x_train= X_train\n",
    "x_test= X_test"
   ]
  },
  {
   "cell_type": "code",
   "execution_count": null,
   "id": "45c65009",
   "metadata": {},
   "outputs": [],
   "source": [
    "kernel =  gp.kernels.ConstantKernel(1.0,(1e-2,1e3))*gp.kernels.RBF(10.0, (1e-3, 1e3))"
   ]
  },
  {
   "cell_type": "code",
   "execution_count": null,
   "id": "338ed1db",
   "metadata": {},
   "outputs": [],
   "source": [
    "model = gp.GaussianProcessRegressor(kernel=kernel, n_restarts_optimizer=10, alpha=0.02, normalize_y=True)\n",
    "model.fit(x_train,y_train)\n",
    "params = model.kernel_.get_params()\n",
    "y_pred, std = model.predict(x_test, return_std=True)"
   ]
  },
  {
   "cell_type": "code",
   "execution_count": null,
   "id": "4ab3eed9",
   "metadata": {},
   "outputs": [],
   "source": [
    "get_score('Training',actual=y_train,predicted=model.predict(x_train))\n",
    "get_score('Test',actual=y_test,predicted=model.predict(x_test))"
   ]
  },
  {
   "cell_type": "markdown",
   "id": "2335e129",
   "metadata": {},
   "source": [
    "## GPR_cv"
   ]
  },
  {
   "cell_type": "code",
   "execution_count": null,
   "id": "06a3fa23",
   "metadata": {},
   "outputs": [],
   "source": [
    "from sklearn.model_selection import GridSearchCV\n",
    "from sklearn.utils import shuffle\n",
    "import sklearn.gaussian_process as gp\n",
    "from sklearn.metrics import mean_squared_error"
   ]
  },
  {
   "cell_type": "code",
   "execution_count": null,
   "id": "0a0516d6",
   "metadata": {},
   "outputs": [],
   "source": [
    "# df_shuffled,df2_shuffled= shuffle(X_train,Y_train,random_state=1659)\n",
    "X_train, X_test, Y_train, Y_test = train_test_split(X, Y, random_state=1659)#550,1659\n",
    "kernel =  gp.kernels.ConstantKernel(1.0,(1e-2,1e3))*gp.kernels.RBF(1.0, (1e-3, 1e3))\n",
    "reg_xgb=gp.GaussianProcessRegressor()\n",
    "hyperparameter_grid = {\n",
    "'kernel':[kernel], \n",
    "'n_restarts_optimizer':[i for i in range(1,10)], \n",
    "'alpha':[0.01], \n",
    "'normalize_y':[True],\n",
    "'random_state':[47]\n",
    "}\n",
    "clf = GridSearchCV(reg_xgb, hyperparameter_grid, cv=5, verbose=0,return_train_score=True,scoring='r2') \n",
    "best_model = clf.fit(X_train, Y_train.values.ravel())\n",
    "print(\"n_restarts_optimizer:\", best_model.best_estimator_.get_params()['n_restarts_optimizer'])\n",
    "print(\"kernel:\", best_model.best_estimator_.get_params()['kernel'])\n",
    "print(\"alpha:\", best_model.best_estimator_.get_params()['alpha'])\n",
    "print(\"random_state:\", best_model.best_estimator_.get_params()['random_state'],\"\\n\")\n",
    "print(\"Test R2:\",best_model.cv_results_['mean_train_score'][np.argmin(best_model.cv_results_['rank_test_score'])])\n",
    "print(\"Validation R2:\", best_model.best_score_)"
   ]
  },
  {
   "cell_type": "code",
   "execution_count": null,
   "id": "c974f042",
   "metadata": {},
   "outputs": [],
   "source": []
  },
  {
   "cell_type": "code",
   "execution_count": null,
   "id": "f16a11e9",
   "metadata": {},
   "outputs": [],
   "source": []
  },
  {
   "cell_type": "code",
   "execution_count": null,
   "id": "7eb1d920",
   "metadata": {},
   "outputs": [],
   "source": [
    "X_train, X_test, Y_train, Y_test = train_test_split(X, Y, random_state=1659)#550,1659\n",
    "kernel =  gp.kernels.ConstantKernel(1.0,(1e-2,1e3))*gp.kernels.RBF(1.0, (1e-3, 1e3))\n",
    "reg_xgb=gp.GaussianProcessRegressor()\n",
    "hyperparameter_grid = {\n",
    "'kernel':[kernel], \n",
    "'n_restarts_optimizer':[i for i in range(1,10)], \n",
    "'alpha':[0.01], \n",
    "'normalize_y':[True],\n",
    "'random_state':[47]\n",
    "}\n",
    "clf = GridSearchCV(reg_xgb, hyperparameter_grid, cv=5, verbose=0,return_train_score=True,scoring='neg_mean_squared_error') \n",
    "best_model = clf.fit(X_train, Y_train.values.ravel())\n",
    "print(\"n_restarts_optimizer:\", best_model.best_estimator_.get_params()['n_restarts_optimizer'])\n",
    "print(\"kernel:\", best_model.best_estimator_.get_params()['kernel'])\n",
    "print(\"alpha:\", best_model.best_estimator_.get_params()['alpha'])\n",
    "print(\"random_state:\", best_model.best_estimator_.get_params()['random_state'],\"\\n\")\n",
    "print(\"Test MSE:\",-best_model.cv_results_['mean_train_score'][np.argmin(best_model.cv_results_['rank_test_score'])])\n",
    "print(\"Validation MSE:\", -best_model.best_score_)"
   ]
  },
  {
   "cell_type": "code",
   "execution_count": null,
   "id": "dcec86ce",
   "metadata": {},
   "outputs": [],
   "source": []
  },
  {
   "cell_type": "code",
   "execution_count": null,
   "id": "3ed1f983",
   "metadata": {},
   "outputs": [],
   "source": []
  }
 ],
 "metadata": {
  "kernelspec": {
   "display_name": "Python 3 (ipykernel)",
   "language": "python",
   "name": "python3"
  },
  "language_info": {
   "codemirror_mode": {
    "name": "ipython",
    "version": 3
   },
   "file_extension": ".py",
   "mimetype": "text/x-python",
   "name": "python",
   "nbconvert_exporter": "python",
   "pygments_lexer": "ipython3",
   "version": "3.10.9"
  }
 },
 "nbformat": 4,
 "nbformat_minor": 5
}
